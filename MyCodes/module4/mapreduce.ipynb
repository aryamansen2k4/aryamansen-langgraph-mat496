{
 "cells": [
  {
   "cell_type": "code",
   "execution_count": 127,
   "id": "788d7907",
   "metadata": {},
   "outputs": [],
   "source": [
    "import os, getpass\n",
    "\n",
    "def _set_env(var: str):\n",
    "    \n",
    "    if not os.environ.get(var):\n",
    "        os.environ[var] = getpass.getpass(f\"{var}: \")\n",
    "\n",
    "_set_env(\"GROQ_API_KEY\")"
   ]
  },
  {
   "cell_type": "code",
   "execution_count": 128,
   "id": "2bba1307",
   "metadata": {},
   "outputs": [],
   "source": [
    "_set_env(\"LANGSMITH_API_KEY\")\n",
    "os.environ[\"LANGSMITH_TRACING\"] = \"true\"\n",
    "os.environ[\"LANGSMITH_PROJECT\"] = \"langchain-academy\""
   ]
  },
  {
   "cell_type": "code",
   "execution_count": 129,
   "id": "0e2b96bd",
   "metadata": {},
   "outputs": [],
   "source": [
    "from langchain_groq import ChatGroq\n",
    "\n",
    "# Prompts we will use\n",
    "stats_prompt = \"\"\"Generate a structured summary of the most important statistics from the football match with a given date: {match}.\n",
    "Include metrics like:\n",
    "- Possession %\n",
    "- Shots on goal\n",
    "- Total shots\n",
    "- Pass accuracy\n",
    "- Fouls\n",
    "- Yellow/Red cards\n",
    "- Expected Goals (xG)\n",
    "- Corners\n",
    "- Key players and highlights\n",
    "\"\"\"\n",
    "\n",
    "compare_prompt = \"\"\"\n",
    "Compare the two teams based on these statistics:\n",
    "{stats}\n",
    "\n",
    "Write a clear and structured analysis comparing their performances across all metrics.\n",
    "\"\"\"\n",
    "\n",
    "better_team_prompt = \"\"\"\n",
    "Here is a detailed match comparison:\n",
    "{comparison}\n",
    "\n",
    "Based on the data, determine which team performed better overall.\n",
    "\"\"\"\n",
    "\n",
    "# LLM\n",
    "model = ChatGroq(model=\"openai/gpt-oss-20b\")"
   ]
  },
  {
   "cell_type": "code",
   "execution_count": 130,
   "id": "56619680",
   "metadata": {},
   "outputs": [],
   "source": [
    "import operator\n",
    "from typing import Annotated\n",
    "from typing_extensions import TypedDict\n",
    "from pydantic import BaseModel\n",
    "\n",
    "class Stat(BaseModel):\n",
    "    stats: list[str]\n",
    "\n",
    "class BestTeam(BaseModel):\n",
    "    id: int\n",
    "\n",
    "class OverallState(TypedDict):\n",
    "    match: str\n",
    "    stats: list\n",
    "    comparison: Annotated[list, operator.add]\n",
    "    best_team: str"
   ]
  },
  {
   "cell_type": "code",
   "execution_count": 131,
   "id": "8c61867e",
   "metadata": {},
   "outputs": [],
   "source": [
    "def generate_stats(state: OverallState):\n",
    "    prompt = stats_prompt.format(match=state[\"match\"])\n",
    "    response = model.invoke(prompt)\n",
    "    return {\"stats\": [response.content]}\n",
    "\n"
   ]
  },
  {
   "cell_type": "code",
   "execution_count": 132,
   "id": "0cc410c0",
   "metadata": {},
   "outputs": [],
   "source": [
    "from langgraph.types import Send\n",
    "def continue_to_comparison(state: OverallState):\n",
    "    return [Send(\"compare_teams\", {\"stats\": s}) for s in state[\"stats\"]]"
   ]
  },
  {
   "cell_type": "code",
   "execution_count": 133,
   "id": "c5ec6499",
   "metadata": {},
   "outputs": [],
   "source": [
    "class ComparisonState(TypedDict):\n",
    "    comparison: str\n",
    "\n",
    "class VerdictState(BaseModel):\n",
    "    verdict: str \n",
    "\n",
    "def compare_teams(state: ComparisonState):\n",
    "    prompt = compare_prompt.format(stats=state[\"stats\"])\n",
    "    response = model.invoke(prompt)\n",
    "    return {\n",
    "        \"comparison\": [response.content]  # <-- Use content instead of .comparison\n",
    "    }\n",
    "\n"
   ]
  },
  {
   "cell_type": "code",
   "execution_count": 134,
   "id": "0cf14e24",
   "metadata": {},
   "outputs": [],
   "source": [
    "def decide_better_team(state: OverallState):\n",
    "    comparison = \"\\n\\n\".join(state[\"comparison\"])\n",
    "    prompt = better_team_prompt.format(comparison=comparison)\n",
    "    response = model.invoke(prompt)\n",
    "    return {\"best_team\": response.content}\n"
   ]
  },
  {
   "cell_type": "code",
   "execution_count": 135,
   "id": "660153f7",
   "metadata": {},
   "outputs": [
    {
     "data": {
      "image/png": "[encoded data removed]",
      "text/plain": [
       "<IPython.core.display.Image object>"
      ]
     },
     "execution_count": 135,
     "metadata": {},
     "output_type": "execute_result"
    }
   ],
   "source": [
    "from IPython.display import Image\n",
    "from langgraph.graph import END, StateGraph, START\n",
    "\n",
    "# Construct the graph: here we put everything together to construct our graph\n",
    "graph = StateGraph(OverallState)\n",
    "graph.add_node(\"generate_stats\", generate_stats)\n",
    "graph.add_node(\"compare_teams\", compare_teams)\n",
    "graph.add_node(\"decide_better_team\", decide_better_team)\n",
    "\n",
    "graph.add_edge(START, \"generate_stats\")\n",
    "graph.add_conditional_edges(\"generate_stats\", continue_to_comparison, [\"compare_teams\"])\n",
    "graph.add_edge(\"compare_teams\",\"decide_better_team\")\n",
    "graph.add_edge(\"decide_better_team\", END)\n",
    "\n",
    "# Compile the graph\n",
    "app = graph.compile()\n",
    "Image(app.get_graph().draw_mermaid_png())"
   ]
  },
  {
   "cell_type": "code",
   "execution_count": 139,
   "id": "2836dc7d",
   "metadata": {},
   "outputs": [
    {
     "name": "stdout",
     "output_type": "stream",
     "text": [
      "{'generate_stats': {'stats': ['**Barcelona vs. Real\\u202fMadrid – 26\\u202fOct\\u202f2025 (La\\u202fLiga)**  \\n*Venue: Camp\\u202fNou, Barcelona*  \\n*Result: 2\\u202f–\\u202f1 (Barcelona)*  \\n\\n---\\n\\n## 1️⃣ Match Summary (Statistical Snapshot)\\n\\n| Metric | Barcelona | Real\\u202fMadrid |\\n|--------|-----------|-------------|\\n| **Possession** | 53\\u202f% | 47\\u202f% |\\n| **Total Shots** | 17 | 12 |\\n| **Shots on Target** | 8 | 4 |\\n| **Pass Accuracy** | 88\\u202f% | 84\\u202f% |\\n| **Fouls** | 14 | 18 |\\n| **Yellow Cards** | 1 (Gavi) | 2 (Mendy, Modric) |\\n| **Red Cards** | 0 | 0 |\\n| **Expected Goals (xG)** | 1.48 | 0.92 |\\n| **Corners** | 7 | 5 |\\n\\n> **Note:** All figures are taken from the official match report released by La\\u202fLiga.  \\n\\n---\\n\\n## 2️⃣ Key Players & Contributions\\n\\n| Player | Team | Position | Highlight |\\n|--------|------|----------|-----------|\\n| **Pedri** | Barcelona | Midfield | 3 key passes, 1 goal (23’), 4 tackles, 90\\u202f% pass accuracy |\\n| **Rafael\\u202fAlonso** | Barcelona | Forward | 2 assists (12’, 67’), 1 shot off‑target, 78\\u202f% chance‑making |\\n| **Sergio\\u202fRamos** | Real\\u202fMadrid | Defender | 2 clearances, 1 interception, 5 tackles |\\n| **Karim\\u202fBenzema** | Real\\u202fMadrid | Forward | 1 goal (34’), 1 shot on target, 2 shots off‑target |\\n| **Alvaro\\u202fMorata** | Real\\u202fMadrid | Forward | 1 shot off‑target, 3 fouls committed |\\n| **Marc‑Alfredo\\u202fAlvarez** | Barcelona | Goalkeeper | 5 saves, 2 key punches, 88\\u202f% save percentage |\\n\\n---\\n\\n## 3️⃣ Match Highlights\\n\\n| Minute | Event | Player | Team | Description |\\n|--------|-------|--------|------|-------------|\\n| **12’** | **Goal** | Pedri | Barcelona | Long‑range strike from outside the box, finishing off a quick one‑two with R.\\u202fAlonso. |\\n| **34’** | **Goal** | Karim\\u202fBenzema | Real\\u202fMadrid | Clinical finish after a quick counter‑attack; shot from 12\\u202fm hit the crossbar. |\\n| **45+2’** | **Goal** | R.\\u202fAlonso | Barcelona | Volley from the left side after a corner; capitalized on a defensive lapse. |\\n| **54’** | **Yellow Card** | Gavi | Barcelona | Reckless tackle on Modric. |\\n| **67’** | **Yellow Card** | Mendy | Real\\u202fMadrid | Late challenge on Pedri. |\\n| **71’** | **Red Card** | Modric | Real\\u202fMadrid | Second yellow for a dangerous tackle; left the field with 5 men. |\\n| **78’** | **Corner** | Barcelona | 7th corner in the match, 6th for Barcelona | Set‑piece that led to a defensive scramble but no goal. |\\n\\n---\\n\\n## 4️⃣ Tactical Takeaways\\n\\n| Aspect | Barcelona | Real\\u202fMadrid |\\n|--------|-----------|-------------|\\n| **Formation** | 4‑3‑3 (tightly organized midfield) | 4‑4‑2 (wide midfielders, double pivot) |\\n| **Pressing Intensity** | High (average 7.2 passes per possession) | Moderate (average 6.5 passes per possession) |\\n| **Key Strength** | Quick counter‑attacks, high pass accuracy | Strong defensive organization, aerial dominance |\\n| **Area of Improvement** | Reduce fouls in the box | Improve first‑touch to avoid turnovers |\\n\\n---\\n\\n## 5️⃣ Final Verdict\\n\\nBarcelona’s disciplined possession and high‑percentage passing paid off with two well‑timed goals. Real\\u202fMadrid’s early threat was neutralized by a red card, leaving them to play with 10 men for the final 20 minutes. The match showcased Barcelona’s efficient attack and Real\\u202fMadrid’s resilience under pressure, but ultimately the Catalan side’s superior ball‑control and tactical execution secured a 2‑1 victory.']}}\n",
      "{'compare_teams': {'comparison': [\"**Barcelona\\u202fvs.\\u202fReal\\u202fMadrid – 26\\u202fOct\\u202f2025 (La\\u202fLiga)**  \\n*Venue: Camp\\u202fNou – 2\\u202f–\\u202f1 Barcelona*\\n\\n---\\n\\n## 1️⃣ Quantitative Comparison\\n\\n| Metric | Barcelona | Real\\u202fMadrid | How It Impacted the Game |\\n|--------|-----------|-------------|--------------------------|\\n| **Possession** | 53\\u202f% | 47\\u202f% | Barcelona’s higher possession allowed them to dictate tempo, create more chances, and keep Real\\u202fMadrid on the back foot. |\\n| **Total Shots** | 17 | 12 | More attempts translated into 8 shots on target (vs. 4), giving Barcelona a higher probability of scoring. |\\n| **Shots on Target** | 8 | 4 | Twice as many on‑target shots meant Barcelona was more threatening in front of goal. |\\n| **Expected Goals (xG)** | 1.48 | 0.92 | Barcelona’s xG was 0.56 points higher, reflecting better quality chances and a higher probability of winning. |\\n| **Pass Accuracy** | 88\\u202f% | 84\\u202f% | Superior passing precision helped Barcelona maintain possession and build attacks more fluidly. |\\n| **Fouls** | 14 | 18 | Real\\u202fMadrid committed more fouls, partly due to playing with 10 men, but this did not translate into disciplinary advantage. |\\n| **Yellow Cards** | 1 (Gavi) | 2 (Mendy, Modric) | Real\\u202fMadrid’s second yellow on Modric forced them to play 10 men, a decisive factor. |\\n| **Red Cards** | 0 | 0 | No red cards; the decisive card was the second yellow for Modric. |\\n| **Corners** | 7 | 5 | Barcelona had more set‑piece opportunities, but only one corner produced a goal‑scoring chance. |\\n\\n---\\n\\n## 2️⃣ Player‑Level Impact\\n\\n| Player | Team | Key Contribution | Effect on Match |\\n|--------|------|------------------|-----------------|\\n| **Pedri** | Barcelona | 1 goal, 3 key passes, 90\\u202f% pass accuracy | Initiated the opening goal and maintained midfield rhythm. |\\n| **Rafael\\u202fAlonso** | Barcelona | 2 assists, 1 goal, 78\\u202f% chance‑making | Directly responsible for both goals and the build‑up play. |\\n| **Marc‑Alfredo\\u202fAlvarez** | Barcelona | 5 saves, 88\\u202f% save % | Kept Real\\u202fMadrid’s attack in check, especially after the red card. |\\n| **Karim\\u202fBenzema** | Real\\u202fMadrid | 1 goal, 1 shot on target | Provided the only Real\\u202fMadrid goal; missed the chance to equalise after the red card. |\\n| **Sergio\\u202fRamos** | Real\\u202fMadrid | 2 clearances, 1 interception, 5 tackles | Defensive backbone but limited impact after 10‑man phase. |\\n| **Alvaro\\u202fMorata** | Real\\u202fMadrid | 1 shot off‑target, 3 fouls | Contributed few tangible moments; fouls added to the team's disciplinary burden. |\\n\\n---\\n\\n## 3️⃣ Tactical Contrast\\n\\n| Aspect | Barcelona | Real\\u202fMadrid |\\n|--------|-----------|-------------|\\n| **Formation** | 4‑3‑3 (tight midfield) | 4‑4‑2 (wide midfielders, double pivot) |\\n| **Pressing** | High intensity (7.2 passes per possession) | Moderate intensity (6.5 passes per possession) |\\n| **Key Strength** | Quick counter‑attacks, high‑percentage passing | Strong defensive organization, aerial dominance |\\n| **Area of Improvement** | Reduce fouls in the box | Improve first‑touch to avoid turnovers |\\n\\n### How Tactics Played Out\\n- **Barcelona** used their 4‑3‑3 to overload the midfield, keeping possession and launching fast counter‑attacks that led to both goals. Their high pressing broke Real\\u202fMadrid’s build‑up early, forcing mistakes.\\n- **Real\\u202fMadrid**’s 4‑4‑2 gave them width but left them vulnerable to Barcelona’s quick transitions. The red card for Modric exposed the midfield, forcing the team to adopt a more defensive posture and limiting their counter‑attack threat.\\n\\n---\\n\\n## 4️⃣ Key Moments Shaped by the Statistics\\n\\n| Moment | Statistical Driver | Outcome |\\n|--------|--------------------|---------|\\n| **12’ Goal (Pedri)** | High possession + 8 shots on target | Early advantage for Barcelona |\\n| **34’ Goal (Benzema)** | Real’s 4 shots on target | Equalised, but limited by later discipline |\\n| **45+2’ Goal (Alonso)** | 7 corners + 88\\u202f% pass accuracy | Barcelona’s second goal, capitalised on a defensive lapse |\\n| **71’ Red Card (Modric)** | 2 yellow cards + 18 fouls | Real\\u202fMadrid played 10 men, losing momentum |\\n| **Late 10‑man phase** | 14 fouls by Real (incl. 18 overall) | Barcelona’s possession advantage increased, sealing the win |\\n\\n---\\n\\n## 5️⃣ Verdict\\n\\nBarcelona’s **statistical superiority in possession, shot volume, and pass accuracy** enabled them to create and convert more chances, culminating in a 2‑1 victory. Real\\u202fMadrid’s **defensive solidity and aerial strength** were undermined by the loss of Modric and a lower quality of chances (xG\\u202f0.92). The decisive factor was the **red‑card penalty** that shifted the match dynamics, allowing Barcelona to dominate the final 20 minutes. Overall, Barcelona’s disciplined tactical execution and key player performances outmatched Real\\u202fMadrid’s resilience.\"]}}\n",
      "{'decide_better_team': {'best_team': '**Barcelona performed better overall.**\\n\\n**Why the data points to Barcelona:**\\n\\n| Key Metric | Barcelona | Real\\u202fMadrid | Interpretation |\\n|------------|-----------|-------------|----------------|\\n| **Possession** | 53\\u202f% | 47\\u202f% | More control → more time to build attacks. |\\n| **Total Shots** | 17 | 12 | Higher volume → more chances. |\\n| **Shots on Target** | 8 | 4 | Twice as many on‑target → higher conversion probability. |\\n| **Expected Goals (xG)** | 1.48 | 0.92 | 0.56‑point advantage → better quality chances. |\\n| **Pass Accuracy** | 88\\u202f% | 84\\u202f% | Cleaner passing keeps possession and builds play. |\\n| **Corners** | 7 | 5 | More set‑piece opportunities. |\\n| **Disciplinary Impact** | 1 yellow | 2 yellows (Modric → red) | Modric’s dismissal forced Real to play 10 men, crippling their attack. |\\n\\n**Player‑level contributions** also favored Barcelona:\\n\\n- Pedri’s goal + 3 key passes, Alonso’s 2 assists + 1 goal, and a solid 88\\u202f% save percentage from Alvarez kept Real’s attack in check.\\n- Real’s key scorer, Benzema, only netted once and missed a late equaliser after the red card.\\n\\n**Tactical execution**:\\n\\n- Barcelona’s 4‑3‑3 overloaded midfield, allowed quick counter‑attacks, and high pressing disrupted Real’s build‑up.\\n- Real’s 4‑4‑2 left them exposed to those transitions, especially after losing Modric.\\n\\n**Outcome**: Barcelona’s statistical edge in possession, shot quality, and discipline, combined with a decisive red card for Real, gave them the advantage that translated into a 2‑1 win. Hence, Barcelona’s overall performance was superior.'}}\n"
     ]
    }
   ],
   "source": [
    "for s in app.stream({\"match\": \"Barcelona vs Real Madrid 2025-26-10\"}):\n",
    "    print(s)"
   ]
  },
  {
   "cell_type": "code",
   "execution_count": null,
   "id": "dc5f7be0",
   "metadata": {},
   "outputs": [],
   "source": []
  }
 ],
 "metadata": {
  "kernelspec": {
   "display_name": "Python 3",
   "language": "python",
   "name": "python3"
  },
  "language_info": {
   "codemirror_mode": {
    "name": "ipython",
    "version": 3
   },
   "file_extension": ".py",
   "mimetype": "text/x-python",
   "name": "python",
   "nbconvert_exporter": "python",
   "pygments_lexer": "ipython3",
   "version": "3.11.9"
  }
 },
 "nbformat": 4,
 "nbformat_minor": 5
}
