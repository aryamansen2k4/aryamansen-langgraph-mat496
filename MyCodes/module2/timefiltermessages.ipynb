{
 "cells": [
  {
   "cell_type": "code",
   "execution_count": 1,
   "id": "d6c8a3d8",
   "metadata": {},
   "outputs": [],
   "source": [
    "import os, getpass\n",
    "\n",
    "def _set_env(var: str):\n",
    "    if not os.environ.get(var):\n",
    "        os.environ[var] = getpass.getpass(f\"{var}: \")\n",
    "\n",
    "_set_env(\"GROQ_API_KEY\")"
   ]
  },
  {
   "cell_type": "code",
   "execution_count": 2,
   "id": "b45c383b",
   "metadata": {},
   "outputs": [],
   "source": [
    "_set_env(\"LANGSMITH_API_KEY\")\n",
    "os.environ[\"LANGSMITH_TRACING\"] = \"true\"\n",
    "os.environ[\"LANGSMITH_PROJECT\"] = \"langchain-academy\""
   ]
  },
  {
   "cell_type": "code",
   "execution_count": 16,
   "id": "18540f8c",
   "metadata": {},
   "outputs": [
    {
     "name": "stdout",
     "output_type": "stream",
     "text": [
      "==================================\u001b[1m Ai Message \u001b[0m==================================\n",
      "Name: Bot\n",
      "\n",
      "So you said you wanted to know about Fifa World Cup 2026?\n",
      "================================\u001b[1m Human Message \u001b[0m=================================\n",
      "Name: Rao\n",
      "\n",
      "Yes. But what do you think are important information to know?\n"
     ]
    }
   ],
   "source": [
    "from pprint import pprint\n",
    "from langchain_core.messages import AIMessage, HumanMessage\n",
    "messages = [AIMessage(f\"So you said you wanted to know about Fifa World Cup 2026?\", name=\"Bot\")]\n",
    "messages.append(HumanMessage(f\"Yes. But what do you think are important information to know?\", name=\"Rao\")) # type: ignore\n",
    "\n",
    "for m in messages:\n",
    "    m.pretty_print()\n"
   ]
  },
  {
   "cell_type": "code",
   "execution_count": 17,
   "id": "a1c69725",
   "metadata": {},
   "outputs": [
    {
     "data": {
      "text/plain": [
       "AIMessage(content='Below is a “quick‑reference” guide to everything you’ll want to know about the 2026 FIFA\\u202fWorld\\u202fCup.  It covers the basic facts, the new format, the host‑country details, how teams qualify, where and when the matches will take place, and a few practical tips for fans.\\n\\n---\\n\\n## 1️⃣  Overview\\n\\n| Item | Details |\\n|------|---------|\\n| Edition | 23rd FIFA World Cup |\\n| Host countries | United States, Canada, Mexico (joint host) |\\n| Dates | 10\\u202fJuly\\u202f–\\u202f12\\u202fAugust\\u202f2026 (exact dates still to be confirmed) |\\n| Total teams | 48 (up from 32 in 2018 & 2022) |\\n| Venues | 16 stadiums (12 in the U.S., 2 in Canada, 2 in Mexico) |\\n| Group stage | 12 groups of 4 teams |\\n| Knock‑out stage | 32 teams (top 2 from each group + 8 best third‑placed teams) |\\n| Final | 12\\u202fAugust\\u202f2026 (venue to be announced) |\\n\\n---\\n\\n## 2️⃣  Host‑Country & Venue Snapshot\\n\\n| Country | Cities | Stadiums (capacity) | Notes |\\n|---------|--------|---------------------|-------|\\n| **United States** | 12 venues across 10 states (e.g., Atlanta, Boston, Dallas, Houston, LA, Miami, New York, Philadelphia, Phoenix, Seattle) | 12 (e.g., MetLife Stadium 82k, AT&T Stadium 80k) | Largest share of matches; 7–8 matches in the U.S. |\\n| **Canada** | Toronto, Vancouver | 2 (Brampton Stadium 27k, BC Place 53k) | 2 matches each in 2026 |\\n| **Mexico** | Mexico City, Monterrey | 2 (Estadio Azteca 87k, Estadio BBVA 49k) | 2 matches each |\\n\\n> **Why 48 teams?**  \\n> FIFA expanded the tournament to give more nations a chance to play on the world stage, while also increasing revenue from broadcast and sponsorship deals.\\n\\n---\\n\\n## 3️⃣  Competition Format\\n\\n| Stage | Teams | How many advance | Notes |\\n|-------|-------|------------------|-------|\\n| **Group Stage** | 48 (12 groups) | Top 2 per group (24) + 8 best third‑placed | 4‑match group stage; 3 points for a win |\\n| **Round of 16** | 32 | 16 | 3rd‑place teams are seeded to avoid group‑stage opponents |\\n| **Quarter‑finals** | 16 | 8 | |\\n| **Semi‑finals** | 8 | 4 | |\\n| **Third‑place play‑off** | 4 | 2 | |\\n| **Final** | 2 | Winner | |\\n\\n*No extra‑time penalty shoot‑outs in the round of 16?*  \\nNo – knockout matches are decided on the day (extra‑time + penalties if needed).  \\n\\n---\\n\\n## 4️⃣  Qualification Pathway\\n\\n| Region | Spots (incl. hosts) | Notes |\\n|--------|---------------------|-------|\\n| **UEFA** (Europe) | 13 (12 + 1 host if not automatically qualified) | 11‑team groups + playoffs |\\n| **CONMEBOL** (South America) | 6 (5 + 1 host if not automatically qualified) | 5‑team groups |\\n| **CONCACAF** (North/Central/Caribbean) | 6 (5 + 1 host if not automatically qualified) | 3‑team groups + playoffs |\\n| **AFC** (Asia) | 4 | |\\n| **CAF** (Africa) | 5 | |\\n| **OFC** (Oceania) | 0 (1 if host not qualified) | |\\n| **Host Nations** | 3 | USA, Canada, Mexico automatically qualify |\\n\\n*Qualification will start in 2024 and finish in late 2025.*\\n\\n---\\n\\n## 5️⃣  Match Schedule Highlights\\n\\n- **Opening Match:** 10\\u202fJuly\\u202f2026 (venue TBD, likely in the U.S.)  \\n- **Group Stage:** 10\\u202fJuly – 28\\u202fJuly  \\n- **Knock‑out Stage:** 30\\u202fJuly – 12\\u202fAugust  \\n- **Final:** 12\\u202fAugust\\u202f2026 (venue to be confirmed; likely in the U.S.)  \\n\\n> **Tip:** Check the official FIFA World Cup app or the “World Cup 2026” website for the latest schedule updates.\\n\\n---\\n\\n## 6️⃣  Tickets & Travel\\n\\n| Ticket | How to get | Price range |\\n|--------|------------|-------------|\\n| **Official FIFA tickets** | FIFA website, authorized partners | $50–$5,000+ |\\n| **Official Fan Zones** | Free, but may require pre‑registration | Free |\\n| **Travel packages** | Travel agencies, local tour operators | $1,500–$5,000+ |\\n\\n**Travel Tips**\\n\\n1. **Early booking:** Accommodation in host cities can fill up quickly, especially in U.S. major cities.  \\n2. **Transportation:** Major U.S. cities have robust public transit; Canada and Mexico offer regional buses and trains.  \\n3. **Visa requirements:** U.S. citizens can travel visa‑free; others should check the specific visa policies for each host country.  \\n4. **Health & safety:** Check vaccination requirements and local health advisories.\\n\\n---\\n\\n## 7️⃣  Broadcasting & Viewing\\n\\n| Region | Main broadcasters | Streaming options |\\n|--------|--------------------|-------------------|\\n| **North America** | ESPN, Fox Sports (U.S.) | ESPN+ (U.S.), Hulu (U.S.) |\\n| **Latin America** | ESPN, Fox Sports | ESPN+ (Latin America) |\\n| **Europe** | BT Sport, beIN Sports | Various national broadcasters |\\n| **Asia** | Star Sports, J Sports | Local sports networks |\\n| **Africa** | SuperSport | Local sports channels |\\n| **Oceania** | Sky Sport, Fox Sports | Local broadcasters |\\n\\n> **Note:** FIFA will also offer an official “World Cup 2026” streaming platform for fans outside of traditional broadcast territories.\\n\\n---\\n\\n## 8️⃣  Fan Experience & Cultural Highlights\\n\\n- **Official World Cup Fan Zone** in each host city (free entry, live music, food trucks, interactive games).  \\n- **Cultural festivals** in each host city (e.g., Mexico City’s “Fiesta de los Pueblos” during the tournament).  \\n- **Stadium tours** (some venues offer behind‑the‑scenes tours for fans).  \\n- **Merchandise**: Official kits, scarves, and limited‑edition memorabilia will be sold in stadiums and online.  \\n\\n---\\n\\n## 9️⃣  Economic & Social Impact\\n\\n| Impact | Estimate |\\n|--------|----------|\\n| **Direct revenue** (ticket sales, broadcasting, sponsorship) | $10–$12\\u202fbillion |\\n| **Tourism boost** (overnight stays, dining) | $5–$7\\u202fbillion |\\n| **Infrastructure legacy** | New stadium upgrades, improved transport links, green‑energy projects |\\n\\n> FIFA’s “Sustainability Commitment” for 2026 aims to reduce carbon emissions by 20\\u202f% compared to 2022.\\n\\n---\\n\\n## 🔟  Quick Facts & Trivia\\n\\n- **First joint‑host World Cup** since 2002 (South Korea & Japan).  \\n- **First World Cup with 48 teams** since 1930 (though 1930 had 13 teams).  \\n- **Potential record‑setting attendance** – 48 teams × 64 matches = 3,072 matchdays.  \\n- **Official match ball**: “FIFA\\u202fWorld Cup\\u202f2026\\u202fBall” – a new design featuring a “globe‑in‑a‑ball” motif.  \\n\\n---\\n\\n## 📌 What to Watch Out For\\n\\n1. **Final venue announcement** – FIFA will confirm the final’s location by late 2024.  \\n2. **Ticket sale dates** – Official tickets go on sale in phases, starting early 2026.  \\n3. **Broadcast rights** – Some regions may need a subscription to local streaming services.  \\n4. **COVID‑19 protocols** – Check the latest health guidelines closer to the event.  \\n\\n---\\n\\n### Bottom Line\\n\\n- **When:** 10\\u202fJuly\\u202f–\\u202f12\\u202fAugust\\u202f2026  \\n- **Where:** 16 stadiums across the U.S., Canada, Mexico  \\n- **Who:** 48 national teams, 32 in the knockout stage  \\n- **Why it matters:** A historic expansion, a new joint‑host model, and a chance to see football history in North America.\\n\\nHappy planning! If you need help with tickets, travel itineraries, or the official app, just let me know.', additional_kwargs={'reasoning_content': 'User: \"Yes. But what do you think are important information to know?\" They want important info about FIFA World Cup 2026. We should provide key details: host countries, dates, venue locations, number of teams, format, qualification, schedule, significance, etc. Also maybe some context: 2026 will be first joint host (USA, Canada, Mexico). 48 teams, expansion from 32. Provide details about venues, group stage, knockout, etc. Provide timeline, maybe some controversies or notable aspects. Also mention that it\\'s the 23rd edition. Provide info on qualification process, host nations automatically qualify, etc. Provide info on where to watch, broadcasting rights. Provide info on any new rules or changes. Provide info on the impact on host cities. Provide info on stadiums. Provide info on fan experience. Provide info on travel tips. Provide info on how to get tickets. Provide info on how to watch. Provide info on potential economic impact. Provide info on the trophy. Provide info on the schedule. Provide info on the 2022 world cup context. Provide info on the 2026 host selection. Provide info on the significance of the 48-team format. Provide info on the timeline of qualifiers. Provide info on the group stage format. Provide info on the knockout stage. Provide info on the \"golden goal\" etc. Provide info on the \"World Cup\" branding. Provide info on the \"FIFA\" organization. Provide info on the \"FIFA World Cup\" as the biggest sporting event. Provide info on the \"World Cup\" schedule. Provide info on \"World Cup\" travel. Provide info on \"World Cup\" fan zones. Provide info on \"World Cup\" fan events. Provide info on \"World Cup\" security. Provide info on \"World Cup\" health and safety. Provide info on \"World Cup\" climate. Provide info on \"World Cup\" sustainability. Provide info on \"World Cup\" fan experiences. Provide info on \"World Cup\" official merchandise. Provide info on \"World Cup\" official anthem. Provide info on \"World Cup\" official sponsors. Provide info on \"World Cup\" official match ball. Provide info on \"World Cup\" official broadcast. Provide info on \"World Cup\" official website. Provide info on \"World Cup\" official app.\\n\\nWe can structure the answer in sections: Overview, Dates, Host Nations and Venues, Teams and Format, Qualification, Schedule, Tickets, Broadcasting, Fan Experience, Economic & Social Impact, Miscellaneous. Provide bullet points, maybe a timeline.\\n\\nWe should be mindful of not providing personal opinions; we can mention \"important\" as objective. Provide facts. Provide citations? We can mention sources but not necessary.\\n\\nWe need to keep answer concise but thorough. We\\'ll deliver a comprehensive but readable answer.'}, response_metadata={'token_usage': {'completion_tokens': 2460, 'prompt_tokens': 106, 'total_tokens': 2566, 'completion_time': 2.445342089, 'prompt_time': 0.005140936, 'queue_time': 0.047012624, 'total_time': 2.450483025}, 'model_name': 'openai/gpt-oss-20b', 'system_fingerprint': 'fp_80501ff3a1', 'service_tier': 'on_demand', 'finish_reason': 'stop', 'logprobs': None}, id='run--554e0a1e-7cdd-44a3-a317-ab2be91ac61c-0', usage_metadata={'input_tokens': 106, 'output_tokens': 2460, 'total_tokens': 2566})"
      ]
     },
     "execution_count": 17,
     "metadata": {},
     "output_type": "execute_result"
    }
   ],
   "source": [
    "import os, getpass\n",
    "from langchain_groq import ChatGroq\n",
    "\n",
    "import os, getpass\n",
    "\n",
    "def _set_env(var: str):\n",
    "    if not os.environ.get(var):\n",
    "        os.environ[var] = getpass.getpass(f\"{var}: \")\n",
    "\n",
    "_set_env(\"GROQ_API_KEY\")\n",
    "\n",
    "from langchain_groq import ChatGroq\n",
    "llm = ChatGroq(model=\"openai/gpt-oss-20b\")\n",
    "llm.invoke(messages)"
   ]
  },
  {
   "cell_type": "code",
   "execution_count": 18,
   "id": "b38ebfeb",
   "metadata": {},
   "outputs": [
    {
     "data": {
      "image/png": "[encoded data removed]",
      "text/plain": [
       "<IPython.core.display.Image object>"
      ]
     },
     "metadata": {},
     "output_type": "display_data"
    }
   ],
   "source": [
    "from IPython.display import Image, display\n",
    "from langgraph.graph import MessagesState\n",
    "from langgraph.graph import StateGraph, START, END\n",
    "\n",
    "# Node \n",
    "def chat_model_node(state: MessagesState):\n",
    "    return {\"messages\": llm.invoke(state[\"messages\"])}\n",
    "\n",
    "# Build graph\n",
    "builder = StateGraph(MessagesState)\n",
    "builder.add_node(\"chat_model\", chat_model_node)\n",
    "builder.add_edge(START, \"chat_model\")\n",
    "builder.add_edge(\"chat_model\", END)\n",
    "graph = builder.compile()\n",
    "\n",
    "# View\n",
    "display(Image(graph.get_graph().draw_mermaid_png()))"
   ]
  },
  {
   "cell_type": "code",
   "execution_count": null,
   "id": "4aae0e67",
   "metadata": {},
   "outputs": [
    {
     "name": "stdout",
     "output_type": "stream",
     "text": [
      "==================================\u001b[1m Ai Message \u001b[0m==================================\n",
      "Name: Bot\n",
      "\n",
      "So you said you wanted to know about Fifa World Cup 2026?\n",
      "================================\u001b[1m Human Message \u001b[0m=================================\n",
      "Name: Rao\n",
      "\n",
      "Yes. But what do you think are important information to know?\n",
      "==================================\u001b[1m Ai Message \u001b[0m==================================\n",
      "\n",
      "### Quick‑Take: FIFA World Cup 2026\n",
      "\n",
      "| Item | Key Details |\n",
      "|------|-------------|\n",
      "| **When** | 8–31 June 2026 (35‑day tournament) |\n",
      "| **Where** | 16 host nations across **North America**: **United States, Canada, Mexico** |\n",
      "| **Venues** | 16 stadiums (10 U.S., 4 Canada, 2 Mexico) – all pre‑existing, with upgrades for the event |\n",
      "| **Teams** | 48 national squads (up from 32 in 2018/2022) |\n",
      "| **Format** | 12 groups of 4 → top 2 advance → knockout rounds (Round of 32 → 16 → 8 → 4 → 2) |\n",
      "| **Qualification** | 31‑team CONCACAF, 16‑team CONMEBOL, 10‑team UEFA, 3‑team AFC, 2‑team CAF, 2‑team OFC |\n",
      "| **Economic Impact** | Projected $3–$5 billion in direct spending; infrastructure upgrades, tourism, and job creation |\n",
      "| **Broadcast** | Global reach via FIFA’s partners (ESPN, Fox, beIN, etc.); 4K/8K streaming in select markets |\n",
      "| **Legacy** | Focus on sustainability (green stadiums, carbon‑offset programs) and community engagement (youth academies, local outreach) |\n",
      "| **Historical Note** | First time the tournament will be hosted by **three countries**; the U.S. will host the opening and final matches |\n",
      "\n",
      "---\n",
      "\n",
      "## Why These Points Matter\n",
      "\n",
      "| Why it matters | What it means for fans, teams, and the world |\n",
      "|----------------|--------------------------------------------|\n",
      "| **Expanded field (48 teams)** | More nations get a World Cup, increasing global representation and fan engagement. |\n",
      "| **North‑American hosts** | Huge market, modern infrastructure, and potential to boost soccer’s profile in the U.S., Canada, and Mexico. |\n",
      "| **Multiple venues** | Fans across a continent can experience the event live, spreading economic benefits. |\n",
      "| **Sustainability focus** | Demonstrates FIFA’s commitment to climate goals; sets a precedent for future tournaments. |\n",
      "| **Economic boost** | Host cities expect tourism, hotel stays, and local business upticks; creates jobs. |\n",
      "| **Broadcast reach** | More viewers worldwide; potential for higher ad revenue and global brand exposure. |\n",
      "\n",
      "---\n",
      "\n",
      "## Quick FAQ\n",
      "\n",
      "| Question | Answer |\n",
      "|----------|--------|\n",
      "| **Will the format change?** | No – the 48‑team structure remains the same as 2022. |\n",
      "| **Which stadiums will open the tournament?** | The United States will host the opening match (likely at SoFi Stadium or Allegiant Stadium) and the final. |\n",
      "| **How are teams chosen?** | Through continental qualification tournaments; the host nations (U.S., Canada, Mexico) automatically qualify. |\n",
      "| **Will there be a “home‑away” format?** | No, all matches are at neutral venues. |\n",
      "| **What about ticket prices?** | FIFA will set a tiered pricing structure, but exact figures are still under negotiation. |\n",
      "| **Are there any new rules?** | No major rule changes announced yet; FIFA continues to refine VAR, off‑side, and player safety protocols. |\n",
      "\n",
      "---\n",
      "\n",
      "### Bottom Line\n",
      "\n",
      "The **2026 FIFA World Cup** is set to be the **largest and most geographically diverse** tournament in history, with **48 teams** competing across **three countries**. It offers a chance for soccer to reach new audiences, deliver a significant economic boost, and showcase a commitment to sustainability. Whether you’re a die‑hard fan, a casual viewer, or a local business owner, the event will leave a lasting footprint on the sporting and cultural landscape of North America.\n"
     ]
    }
   ],
   "source": [
    "output = graph.invoke({'messages': messages}) # type: ignore\n",
    "for m in output['messages']:\n",
    "    m.pretty_print()"
   ]
  },
  {
   "cell_type": "code",
   "execution_count": null,
   "id": "7438a328",
   "metadata": {},
   "outputs": [
    {
     "data": {
      "image/png": "[encoded data removed]",
      "text/plain": [
       "<IPython.core.display.Image object>"
      ]
     },
     "metadata": {},
     "output_type": "display_data"
    }
   ],
   "source": [
    "from langchain_core.messages import RemoveMessage\n",
    "\n",
    "# Nodes\n",
    "def filter_messages(state: MessagesState):\n",
    "    # Delete all but the 2 most recent messages\n",
    "    delete_messages = [RemoveMessage(id=m.id) for m in state[\"messages\"][:-2]] # type: ignore\n",
    "    return {\"messages\": delete_messages}\n",
    "\n",
    "def chat_model_node(state: MessagesState):    \n",
    "    return {\"messages\": [llm.invoke(state[\"messages\"])]}\n",
    "\n",
    "# Build graph\n",
    "builder = StateGraph(MessagesState)\n",
    "builder.add_node(\"filter\", filter_messages)\n",
    "builder.add_node(\"chat_model\", chat_model_node)\n",
    "builder.add_edge(START, \"filter\")\n",
    "builder.add_edge(\"filter\", \"chat_model\")\n",
    "builder.add_edge(\"chat_model\", END)\n",
    "graph = builder.compile()\n",
    "\n",
    "# View\n",
    "display(Image(graph.get_graph().draw_mermaid_png()))"
   ]
  },
  {
   "cell_type": "code",
   "execution_count": null,
   "id": "8417cdeb",
   "metadata": {},
   "outputs": [
    {
     "name": "stdout",
     "output_type": "stream",
     "text": [
      "==================================\u001b[1m Ai Message \u001b[0m==================================\n",
      "Name: Bot\n",
      "\n",
      "So you said you wanted to know about Fifa World Cup 2026?\n",
      "================================\u001b[1m Human Message \u001b[0m=================================\n",
      "Name: Rao\n",
      "\n",
      "Yes. But what do you think are important information to know?\n",
      "==================================\u001b[1m Ai Message \u001b[0m==================================\n",
      "\n",
      "Here’s a quick “cheat‑sheet” of the most important facts about the 2026 FIFA World Cup—so you’ll know what to look out for and why it’s such a big deal.\n",
      "\n",
      "| Topic | Key Points |\n",
      "|-------|------------|\n",
      "| **When & Where** | • **Dates:** 10 June – 12 July 2026 (summer in North America)  <br>• **Host nations:** United States, Canada, Mexico (joint bid) |\n",
      "| **Format & Teams** | • **48 teams** (up from 32) <br>• **Group stage:** 16 groups of 3 teams each – every team plays 2 matches (no “bye” week). <br>• **Knockout phase:** Top‑2 from each group → Round of 32, then 16, quarter‑finals, semi‑finals, and final. |\n",
      "| **Venue Cities** | • **United States (8):** Atlanta, Boston, Dallas, Houston, Los Angeles, Miami, New York/New Jersey, Philadelphia <br>• **Canada (3):** Toronto, Montreal, Vancouver <br>• **Mexico (4):** Guadalajara, Mexico City, Monterrey, Tijuana <br>• **Final venue:** MetLife Stadium, East Rutherford, NJ (home of the NFL’s Giants & Jets) |\n",
      "| **Qualification** | • 48 spots: 13 CAF, 13 CONCACAF, 12 CONMEBOL, 3 AFC, 2 OFC, 2 UEFA, plus the 3 hosts (USA, Canada, Mexico). <br>• Each confederation holds its own qualifying campaign; the 2025‑2026 cycle is already underway. |\n",
      "| **Why It Matters** | • First time the World Cup is hosted by **three countries** simultaneously. <br>• First edition in **North America** since 1994 (USA). <br>• Expansion to 48 teams means **more representation** from smaller football nations and a larger global audience. <br>• New “group‑of‑3” format tests a different competitive structure that could influence future tournaments. |\n",
      "| **Broadcast & Access** | • Global TV rights already secured by FIFA; every match will be streamed in multiple languages. <br>• In‑stadium experience: upgraded stadiums, fan zones, and new technology (e.g., enhanced VAR, real‑time stats). |\n",
      "| **Legacy & Infrastructure** | • Each host city is investing in stadium upgrades, transportation, and sustainability initiatives. <br>• FIFA’s “Legacy Programme” focuses on community projects, youth academies, and long‑term use of venues. |\n",
      "\n",
      "**Quick Takeaway:** The 2026 World Cup is a historic, 48‑team tournament that will be played across the U.S., Canada, and Mexico, featuring a new group‑of‑3 format and a summer schedule that promises plenty of football action and a fresh look at how the world’s biggest football event can be shared across borders.\n"
     ]
    }
   ],
   "source": [
    "# Message list with a preamble\n",
    "messages = [AIMessage(\"Hi.\", name=\"Bot\", id=\"1\")]\n",
    "messages.append(HumanMessage(\"Hi.\", name=\"Rao\", id=\"2\")) # type: ignore\n",
    "messages.append(AIMessage(\"So you said you wanted to know about Fifa World Cup 2026?\", name=\"Bot\", id=\"3\"))\n",
    "messages.append(HumanMessage(\"Yes. But what do you think are important information to know?\", name=\"Rao\", id=\"4\")) # type: ignore\n",
    "\n",
    "# Invoke\n",
    "output = graph.invoke({'messages': messages}) # type: ignore\n",
    "for m in output['messages']:\n",
    "    m.pretty_print()"
   ]
  },
  {
   "cell_type": "code",
   "execution_count": 23,
   "id": "59d10d8e",
   "metadata": {},
   "outputs": [
    {
     "data": {
      "image/png": "[encoded data removed]",
      "text/plain": [
       "<IPython.core.display.Image object>"
      ]
     },
     "metadata": {},
     "output_type": "display_data"
    }
   ],
   "source": [
    "# Node\n",
    "def chat_model_node(state: MessagesState):\n",
    "    return {\"messages\": [llm.invoke(state[\"messages\"][-1:])]}\n",
    "\n",
    "# Build graph\n",
    "builder = StateGraph(MessagesState)\n",
    "builder.add_node(\"chat_model\", chat_model_node)\n",
    "builder.add_edge(START, \"chat_model\")\n",
    "builder.add_edge(\"chat_model\", END)\n",
    "graph = builder.compile()\n",
    "\n",
    "# View\n",
    "display(Image(graph.get_graph().draw_mermaid_png()))"
   ]
  },
  {
   "cell_type": "code",
   "execution_count": null,
   "id": "77bd816b",
   "metadata": {},
   "outputs": [],
   "source": [
    "messages.append(output['messages'][-1])\n",
    "messages.append(HumanMessage(f\"Tell me more about structure of the Fifa World Cup 2026!\", name=\"Rao\")) # type: ignore"
   ]
  },
  {
   "cell_type": "code",
   "execution_count": null,
   "id": "cb91c6d3",
   "metadata": {},
   "outputs": [
    {
     "name": "stdout",
     "output_type": "stream",
     "text": [
      "==================================\u001b[1m Ai Message \u001b[0m==================================\n",
      "Name: Bot\n",
      "\n",
      "Hi.\n",
      "================================\u001b[1m Human Message \u001b[0m=================================\n",
      "Name: Rao\n",
      "\n",
      "Hi.\n",
      "==================================\u001b[1m Ai Message \u001b[0m==================================\n",
      "Name: Bot\n",
      "\n",
      "So you said you wanted to know about Fifa World Cup 2026?\n",
      "================================\u001b[1m Human Message \u001b[0m=================================\n",
      "Name: Rao\n",
      "\n",
      "Yes. But what do you think are important information to know?\n",
      "==================================\u001b[1m Ai Message \u001b[0m==================================\n",
      "\n",
      "Here’s a quick “cheat‑sheet” of the most important facts about the 2026 FIFA World Cup—so you’ll know what to look out for and why it’s such a big deal.\n",
      "\n",
      "| Topic | Key Points |\n",
      "|-------|------------|\n",
      "| **When & Where** | • **Dates:** 10 June – 12 July 2026 (summer in North America)  <br>• **Host nations:** United States, Canada, Mexico (joint bid) |\n",
      "| **Format & Teams** | • **48 teams** (up from 32) <br>• **Group stage:** 16 groups of 3 teams each – every team plays 2 matches (no “bye” week). <br>• **Knockout phase:** Top‑2 from each group → Round of 32, then 16, quarter‑finals, semi‑finals, and final. |\n",
      "| **Venue Cities** | • **United States (8):** Atlanta, Boston, Dallas, Houston, Los Angeles, Miami, New York/New Jersey, Philadelphia <br>• **Canada (3):** Toronto, Montreal, Vancouver <br>• **Mexico (4):** Guadalajara, Mexico City, Monterrey, Tijuana <br>• **Final venue:** MetLife Stadium, East Rutherford, NJ (home of the NFL’s Giants & Jets) |\n",
      "| **Qualification** | • 48 spots: 13 CAF, 13 CONCACAF, 12 CONMEBOL, 3 AFC, 2 OFC, 2 UEFA, plus the 3 hosts (USA, Canada, Mexico). <br>• Each confederation holds its own qualifying campaign; the 2025‑2026 cycle is already underway. |\n",
      "| **Why It Matters** | • First time the World Cup is hosted by **three countries** simultaneously. <br>• First edition in **North America** since 1994 (USA). <br>• Expansion to 48 teams means **more representation** from smaller football nations and a larger global audience. <br>• New “group‑of‑3” format tests a different competitive structure that could influence future tournaments. |\n",
      "| **Broadcast & Access** | • Global TV rights already secured by FIFA; every match will be streamed in multiple languages. <br>• In‑stadium experience: upgraded stadiums, fan zones, and new technology (e.g., enhanced VAR, real‑time stats). |\n",
      "| **Legacy & Infrastructure** | • Each host city is investing in stadium upgrades, transportation, and sustainability initiatives. <br>• FIFA’s “Legacy Programme” focuses on community projects, youth academies, and long‑term use of venues. |\n",
      "\n",
      "**Quick Takeaway:** The 2026 World Cup is a historic, 48‑team tournament that will be played across the U.S., Canada, and Mexico, featuring a new group‑of‑3 format and a summer schedule that promises plenty of football action and a fresh look at how the world’s biggest football event can be shared across borders.\n",
      "================================\u001b[1m Human Message \u001b[0m=================================\n",
      "Name: Rao\n",
      "\n",
      "Tell me more about structure of the Fifa World Cup 2026!\n"
     ]
    }
   ],
   "source": [
    "for m in messages:\n",
    "    m.pretty_print()"
   ]
  },
  {
   "cell_type": "code",
   "execution_count": 29,
   "id": "967ae6d8",
   "metadata": {},
   "outputs": [
    {
     "name": "stdout",
     "output_type": "stream",
     "text": [
      "==================================\u001b[1m Ai Message \u001b[0m==================================\n",
      "Name: Bot\n",
      "\n",
      "Hi.\n",
      "================================\u001b[1m Human Message \u001b[0m=================================\n",
      "Name: Rao\n",
      "\n",
      "Hi.\n",
      "==================================\u001b[1m Ai Message \u001b[0m==================================\n",
      "Name: Bot\n",
      "\n",
      "So you said you wanted to know about Fifa World Cup 2026?\n",
      "================================\u001b[1m Human Message \u001b[0m=================================\n",
      "Name: Rao\n",
      "\n",
      "Yes. But what do you think are important information to know?\n",
      "==================================\u001b[1m Ai Message \u001b[0m==================================\n",
      "\n",
      "Here’s a quick “cheat‑sheet” of the most important facts about the 2026 FIFA World Cup—so you’ll know what to look out for and why it’s such a big deal.\n",
      "\n",
      "| Topic | Key Points |\n",
      "|-------|------------|\n",
      "| **When & Where** | • **Dates:** 10 June – 12 July 2026 (summer in North America)  <br>• **Host nations:** United States, Canada, Mexico (joint bid) |\n",
      "| **Format & Teams** | • **48 teams** (up from 32) <br>• **Group stage:** 16 groups of 3 teams each – every team plays 2 matches (no “bye” week). <br>• **Knockout phase:** Top‑2 from each group → Round of 32, then 16, quarter‑finals, semi‑finals, and final. |\n",
      "| **Venue Cities** | • **United States (8):** Atlanta, Boston, Dallas, Houston, Los Angeles, Miami, New York/New Jersey, Philadelphia <br>• **Canada (3):** Toronto, Montreal, Vancouver <br>• **Mexico (4):** Guadalajara, Mexico City, Monterrey, Tijuana <br>• **Final venue:** MetLife Stadium, East Rutherford, NJ (home of the NFL’s Giants & Jets) |\n",
      "| **Qualification** | • 48 spots: 13 CAF, 13 CONCACAF, 12 CONMEBOL, 3 AFC, 2 OFC, 2 UEFA, plus the 3 hosts (USA, Canada, Mexico). <br>• Each confederation holds its own qualifying campaign; the 2025‑2026 cycle is already underway. |\n",
      "| **Why It Matters** | • First time the World Cup is hosted by **three countries** simultaneously. <br>• First edition in **North America** since 1994 (USA). <br>• Expansion to 48 teams means **more representation** from smaller football nations and a larger global audience. <br>• New “group‑of‑3” format tests a different competitive structure that could influence future tournaments. |\n",
      "| **Broadcast & Access** | • Global TV rights already secured by FIFA; every match will be streamed in multiple languages. <br>• In‑stadium experience: upgraded stadiums, fan zones, and new technology (e.g., enhanced VAR, real‑time stats). |\n",
      "| **Legacy & Infrastructure** | • Each host city is investing in stadium upgrades, transportation, and sustainability initiatives. <br>• FIFA’s “Legacy Programme” focuses on community projects, youth academies, and long‑term use of venues. |\n",
      "\n",
      "**Quick Takeaway:** The 2026 World Cup is a historic, 48‑team tournament that will be played across the U.S., Canada, and Mexico, featuring a new group‑of‑3 format and a summer schedule that promises plenty of football action and a fresh look at how the world’s biggest football event can be shared across borders.\n",
      "================================\u001b[1m Human Message \u001b[0m=================================\n",
      "Name: Rao\n",
      "\n",
      "Tell me more about structure of the Fifa World Cup 2026!\n",
      "==================================\u001b[1m Ai Message \u001b[0m==================================\n",
      "\n",
      "**FIFA World Cup 2026 – the “48‑team” edition**\n",
      "\n",
      "| Phase | What happens | How it works | Key numbers |\n",
      "|-------|--------------|--------------|-------------|\n",
      "| **Qualification** | 200‑plus national teams compete over 2025–2026 to earn 47 spots (the host trio – USA, Canada, Mexico – automatically qualify) | • 13 confederations (UEFA, CONMEBOL, CONCACAF, CAF, AFC, OFC) each have a set number of berths.<br>• The 2025–26 qualification calendar (UEFA Nations League, CONMEBOL Copa América, etc.) feeds into the final 48‑team pool. | 48 teams total |\n",
      "| **Group Stage** | 48 teams are divided into **16 groups of 3** | • Each team plays the other two teams in its group once (2 matches each).<br>• 3 points for a win, 1 for a draw.<br>• **Tiebreakers**: goal difference, goals scored, head‑to‑head, fair‑play points, drawing of lots. | • 48 matches (16 groups × 3 matches).<br>• Top two teams from each group advance → 32 teams in the knockout stage. |\n",
      "| **Knockout Stage** | Single‑match elimination from the round of 32 to the final | • **Round of 32**: 32 teams → 16 winners.<br>• **Round of 16**: 16 teams → 8 winners.<br>• **Quarter‑finals**: 8 → 4.<br>• **Semi‑finals**: 4 → 2 finalists + 2 third‑place teams.<br>• **Third‑place play‑off**: losers of the semi‑finals play for bronze.<br>• **Final**: determines the champion.<br>• If a match is tied after 90 minutes, 30 minutes of extra‑time are played; if still tied, a penalty shoot‑out decides the winner. | • 16 + 8 + 4 + 2 + 1 + 1 = **32 knockout matches**. |\n",
      "| **Total Matches** | 48 (group) + 32 (knockout) = **80 matches** |  |  |\n",
      "\n",
      "---\n",
      "\n",
      "### Why the 48‑team format?\n",
      "\n",
      "* **More representation** – 48 teams (vs. 32 in previous editions) allow more nations, especially from Africa, Asia, and the Americas, to participate.  \n",
      "* **Competitive balance** – The three‑team groups reduce the risk of a “dead” match (all teams still in contention).  \n",
      "* **Commercial & broadcast appeal** – 80 matches generate more content for broadcasters, sponsors, and fans.  \n",
      "* **Legacy** – A larger field spreads the World Cup’s economic impact across more host cities and regions.\n",
      "\n",
      "---\n",
      "\n",
      "### Host cities and venues\n",
      "\n",
      "The 2026 World Cup will be staged in **16 cities across three countries** (USA, Canada, Mexico). The venues are all state‑of‑the‑art stadiums that meet FIFA’s 2026 standards, with a minimum capacity of 40,000 seats for group matches and 60,000 for knockout rounds. The host cities are:\n",
      "\n",
      "| Country | Cities (stated by FIFA) |\n",
      "|---------|------------------------|\n",
      "| **United States** | Atlanta, Austin, Boston, Dallas, Detroit, Houston |\n",
      "| **Canada** | Toronto, Vancouver, Montreal, Calgary |\n",
      "| **Mexico** | Guadalajara, Mexico City, Monterrey, Tijuana, Puebla, and **another city** (the exact 6th was not announced at the time of writing – FIFA confirmed it later). |\n",
      "\n",
      "*The final venue list will be announced in the coming months, but the 16 cities are guaranteed to host at least one match.*\n",
      "\n",
      "---\n",
      "\n",
      "### Tournament timeline (tentative)\n",
      "\n",
      "| Stage | Approximate Dates |\n",
      "|-------|-------------------|\n",
      "| Group Stage | 10 June – 4 July |\n",
      "| Knockout Stage | 6 July – 3 August |\n",
      "| Final | 3 August (MetLife Stadium, New Jersey – a neutral venue chosen by FIFA) |\n",
      "\n",
      "---\n",
      "\n",
      "### How the tournament will be broadcast\n",
      "\n",
      "* **Global coverage** – Every match will be streamed live on FIFA’s official app and partner broadcasters in each participating country.  \n",
      "* **Digital experience** – Interactive features such as 360° camera angles, player stats, and fan polls will be available.  \n",
      "* **Multi‑language commentary** – FIFA will provide commentary in at least 30 languages, ensuring accessibility for the world’s biggest football audience.\n",
      "\n",
      "---\n",
      "\n",
      "### What to keep an eye on\n",
      "\n",
      "| Topic | Why it matters |\n",
      "|-------|----------------|\n",
      "| **Group draws** | The 16 groups of 3 will be determined in a live draw. Watch for “group of death” scenarios. |\n",
      "| **Qualification timeline** | Key match dates for the various confederations will dictate which teams secure spots. |\n",
      "| **Venue upgrades** | Some stadiums are slated for major renovations; updates on capacity and technology will be released. |\n",
      "| **Player eligibility** | New FIFA rules on squad registration (e.g., 26‑player squads, 3‑goalkeeper rule) will apply. |\n",
      "| **Sustainability initiatives** | FIFA’s “Green World Cup” plan will see carbon‑neutral stadiums, waste‑free operations, and a “Carbon Offset Fund.” |\n",
      "\n",
      "---\n",
      "\n",
      "### Bottom line\n",
      "\n",
      "The 2026 FIFA World Cup will be the first 48‑team tournament in World Cup history, expanding the global reach of football while keeping the classic knockout drama. With 16 host cities across North America, 80 matches, and a mix of group and knockout stages, fans will experience a packed, action‑packed World Cup that promises to be both competitive and inclusive. Stay tuned for the official draw, venue details, and qualification updates as the tournament draws nearer!\n"
     ]
    }
   ],
   "source": [
    "# Invoke, using message filtering\n",
    "output = graph.invoke({'messages': messages}) # type: ignore\n",
    "for m in output['messages']:\n",
    "    m.pretty_print()"
   ]
  },
  {
   "cell_type": "code",
   "execution_count": 30,
   "id": "b2e073f4",
   "metadata": {},
   "outputs": [
    {
     "data": {
      "image/png": "[encoded data removed]",
      "text/plain": [
       "<IPython.core.display.Image object>"
      ]
     },
     "metadata": {},
     "output_type": "display_data"
    }
   ],
   "source": [
    "from langchain_core.messages import trim_messages\n",
    "\n",
    "# Node\n",
    "def chat_model_node(state: MessagesState):\n",
    "    messages = trim_messages(\n",
    "            state[\"messages\"],\n",
    "            max_tokens=100,\n",
    "            strategy=\"last\",\n",
    "            token_counter=ChatGroq(model=\"openai/gpt-oss-20b\"),\n",
    "            allow_partial=False,\n",
    "        )\n",
    "    return {\"messages\": [llm.invoke(messages)]}\n",
    "\n",
    "# Build graph\n",
    "builder = StateGraph(MessagesState)\n",
    "builder.add_node(\"chat_model\", chat_model_node)\n",
    "builder.add_edge(START, \"chat_model\")\n",
    "builder.add_edge(\"chat_model\", END)\n",
    "graph = builder.compile()\n",
    "\n",
    "# View\n",
    "display(Image(graph.get_graph().draw_mermaid_png()))"
   ]
  },
  {
   "cell_type": "code",
   "execution_count": 31,
   "id": "6405cca9",
   "metadata": {},
   "outputs": [],
   "source": [
    "messages.append(output['messages'][-1])\n",
    "messages.append(HumanMessage(f\"I want to know which teams qualified for the world cup.\", name=\"Rao\")) # type: ignore"
   ]
  },
  {
   "cell_type": "code",
   "execution_count": 32,
   "id": "9c30a1f4",
   "metadata": {},
   "outputs": [
    {
     "data": {
      "text/plain": [
       "[HumanMessage(content='I want to know which teams qualified for the world cup.', additional_kwargs={}, response_metadata={}, name='Rao')]"
      ]
     },
     "execution_count": 32,
     "metadata": {},
     "output_type": "execute_result"
    }
   ],
   "source": [
    "# Example of trimming messages\n",
    "trim_messages(\n",
    "            messages,\n",
    "            max_tokens=100,\n",
    "            strategy=\"last\",\n",
    "            token_counter=ChatGroq(model=\"openai/gpt-oss-20b\"),\n",
    "            allow_partial=False\n",
    "        )"
   ]
  },
  {
   "cell_type": "code",
   "execution_count": 33,
   "id": "843c6162",
   "metadata": {},
   "outputs": [],
   "source": [
    "messages_out_trim = graph.invoke({'messages': messages}) # type: ignore"
   ]
  }
 ],
 "metadata": {
  "kernelspec": {
   "display_name": "Python 3",
   "language": "python",
   "name": "python3"
  },
  "language_info": {
   "codemirror_mode": {
    "name": "ipython",
    "version": 3
   },
   "file_extension": ".py",
   "mimetype": "text/x-python",
   "name": "python",
   "nbconvert_exporter": "python",
   "pygments_lexer": "ipython3",
   "version": "3.13.3"
  }
 },
 "nbformat": 4,
 "nbformat_minor": 5
}
