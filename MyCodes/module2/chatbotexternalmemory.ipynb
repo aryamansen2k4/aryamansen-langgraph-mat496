{
 "cells": [
  {
   "cell_type": "code",
   "execution_count": 1,
   "id": "39f74691",
   "metadata": {},
   "outputs": [
    {
     "name": "stderr",
     "output_type": "stream",
     "text": [
      "C:\\Users\\user\\AppData\\Local\\Packages\\PythonSoftwareFoundation.Python.3.13_qbz5n2kfra8p0\\LocalCache\\local-packages\\Python313\\site-packages\\tqdm\\auto.py:21: TqdmWarning: IProgress not found. Please update jupyter and ipywidgets. See https://ipywidgets.readthedocs.io/en/stable/user_install.html\n",
      "  from .autonotebook import tqdm as notebook_tqdm\n"
     ]
    }
   ],
   "source": [
    "import os, getpass\n",
    "from langchain_groq import ChatGroq\n",
    "\n",
    "import os, getpass\n",
    "\n",
    "def _set_env(var: str):\n",
    "    if not os.environ.get(var):\n",
    "        os.environ[var] = getpass.getpass(f\"{var}: \")\n",
    "\n",
    "_set_env(\"GROQ_API_KEY\")\n",
    "\n",
    "from langchain_groq import ChatGroq\n",
    "model = ChatGroq(model=\"openai/gpt-oss-20b\")"
   ]
  },
  {
   "cell_type": "code",
   "execution_count": 2,
   "id": "43255bfd",
   "metadata": {},
   "outputs": [],
   "source": [
    "import sqlite3\n",
    "# In memory\n",
    "conn = sqlite3.connect(\":memory:\", check_same_thread = False)"
   ]
  },
  {
   "cell_type": "code",
   "execution_count": 3,
   "id": "7025cb37",
   "metadata": {},
   "outputs": [
    {
     "name": "stderr",
     "output_type": "stream",
     "text": [
      "A subdirectory or file state_db already exists.\n",
      "Error occurred while processing: state_db.\n"
     ]
    }
   ],
   "source": [
    "# pull file if it doesn't exist and connect to local db\n",
    "!mkdir -p state_db && [ ! -f state_db/example.db ] && wget -P state_db https://github.com/langchain-ai/langchain-academy/raw/main/module-2/state_db/example.db\n",
    "\n",
    "db_path = \"state_db/example.db\"\n",
    "conn = sqlite3.connect(db_path, check_same_thread=False)"
   ]
  },
  {
   "cell_type": "code",
   "execution_count": 4,
   "id": "87c7fbc6",
   "metadata": {},
   "outputs": [],
   "source": [
    "# Here is our checkpointer \n",
    "from langgraph.checkpoint.sqlite import SqliteSaver\n",
    "memory = SqliteSaver(conn)"
   ]
  },
  {
   "cell_type": "code",
   "execution_count": 6,
   "id": "51b4e81a",
   "metadata": {},
   "outputs": [],
   "source": [
    "from langchain_groq import ChatGroq\n",
    "from langchain_core.messages import SystemMessage, HumanMessage, RemoveMessage\n",
    "\n",
    "from langgraph.graph import END\n",
    "from langgraph.graph import MessagesState\n",
    "\n",
    "model = ChatGroq(model=\"openai/gpt-oss-20b\")\n",
    "\n",
    "class State(MessagesState):\n",
    "    summary: str\n",
    "\n",
    "# Define the logic to call the model\n",
    "def call_model(state: State):\n",
    "    \n",
    "    # Get summary if it exists\n",
    "    summary = state.get(\"summary\", \"\")\n",
    "\n",
    "    # If there is summary, then we add it\n",
    "    if summary:\n",
    "        \n",
    "        # Add summary to system message\n",
    "        system_message = f\"Summary of conversation earlier: {summary}\"\n",
    "\n",
    "        # Append summary to any newer messages\n",
    "        messages = [SystemMessage(content=system_message)] + state[\"messages\"]\n",
    "    \n",
    "    else:\n",
    "        messages = state[\"messages\"]\n",
    "    \n",
    "    response = model.invoke(messages)\n",
    "    return {\"messages\": response}\n",
    "\n",
    "def summarize_conversation(state: State):\n",
    "    \n",
    "    # First, we get any existing summary\n",
    "    summary = state.get(\"summary\", \"\")\n",
    "\n",
    "    # Create our summarization prompt \n",
    "    if summary:\n",
    "        \n",
    "        # A summary already exists\n",
    "        summary_message = (\n",
    "            f\"This is summary of the conversation to date: {summary}\\n\\n\"\n",
    "            \"Extend the summary by taking into account the new messages above:\"\n",
    "        )\n",
    "        \n",
    "    else:\n",
    "        summary_message = \"Create a summary of the conversation above:\"\n",
    "\n",
    "    # Add prompt to our history\n",
    "    messages = state[\"messages\"] + [HumanMessage(content=summary_message)]\n",
    "    response = model.invoke(messages)\n",
    "    \n",
    "    # Delete all but the 2 most recent messages\n",
    "    delete_messages = [RemoveMessage(id=m.id) for m in state[\"messages\"][:-2]]\n",
    "    return {\"summary\": response.content, \"messages\": delete_messages}\n",
    "\n",
    "# Determine whether to end or summarize the conversation\n",
    "def should_continue(state: State):\n",
    "    \n",
    "    \"\"\"Return the next node to execute.\"\"\"\n",
    "    \n",
    "    messages = state[\"messages\"]\n",
    "    \n",
    "    # If there are more than six messages, then we summarize the conversation\n",
    "    if len(messages) > 6:\n",
    "        return \"summarize_conversation\"\n",
    "    \n",
    "    # Otherwise we can just end\n",
    "    return END"
   ]
  },
  {
   "cell_type": "code",
   "execution_count": 7,
   "id": "5811336d",
   "metadata": {},
   "outputs": [
    {
     "data": {
      "image/png": "[encoded data removed]",
      "text/plain": [
       "<IPython.core.display.Image object>"
      ]
     },
     "metadata": {},
     "output_type": "display_data"
    }
   ],
   "source": [
    "from IPython.display import Image, display\n",
    "from langgraph.graph import StateGraph, START\n",
    "\n",
    "# Define a new graph\n",
    "workflow = StateGraph(State)\n",
    "workflow.add_node(\"conversation\", call_model)\n",
    "workflow.add_node(summarize_conversation)\n",
    "\n",
    "# Set the entrypoint as conversation\n",
    "workflow.add_edge(START, \"conversation\")\n",
    "workflow.add_conditional_edges(\"conversation\", should_continue)\n",
    "workflow.add_edge(\"summarize_conversation\", END)\n",
    "\n",
    "# Compile\n",
    "graph = workflow.compile(checkpointer=memory)\n",
    "display(Image(graph.get_graph().draw_mermaid_png()))"
   ]
  },
  {
   "cell_type": "code",
   "execution_count": 8,
   "id": "eb2872b3",
   "metadata": {},
   "outputs": [
    {
     "name": "stdout",
     "output_type": "stream",
     "text": [
      "==================================\u001b[1m Ai Message \u001b[0m==================================\n",
      "\n",
      "Hey Rao! 👋 Great to see you back. You mentioned you’re into football—anything in particular you’re excited about right now? Whether it’s the NFL, college gridiron, or the global soccer scene, I’m all ears for a deep dive or just a casual chat!\n",
      "==================================\u001b[1m Ai Message \u001b[0m==================================\n",
      "\n",
      "Your name is Rao.\n",
      "==================================\u001b[1m Ai Message \u001b[0m==================================\n",
      "\n",
      "That’s awesome, Rao! ⚽️🏈 Which side of the game gets your heart racing? Are you more into the NFL, college football, or the global soccer (football) scene? Let me know and we can dive into the latest news, stats, or even a quick trivia quiz!\n"
     ]
    }
   ],
   "source": [
    "# Create a thread\n",
    "config = {\"configurable\": {\"thread_id\": \"1\"}}\n",
    "\n",
    "# Start conversation\n",
    "input_message = HumanMessage(content=\"hi! I'm Rao\")\n",
    "output = graph.invoke({\"messages\": [input_message]}, config) \n",
    "for m in output['messages'][-1:]:\n",
    "    m.pretty_print()\n",
    "\n",
    "input_message = HumanMessage(content=\"what's my name?\")\n",
    "output = graph.invoke({\"messages\": [input_message]}, config) \n",
    "for m in output['messages'][-1:]:\n",
    "    m.pretty_print()\n",
    "\n",
    "input_message = HumanMessage(content=\"i like football!\")\n",
    "output = graph.invoke({\"messages\": [input_message]}, config) \n",
    "for m in output['messages'][-1:]:\n",
    "    m.pretty_print()"
   ]
  },
  {
   "cell_type": "code",
   "execution_count": 9,
   "id": "adb3c96e",
   "metadata": {},
   "outputs": [
    {
     "data": {
      "text/plain": [
       "StateSnapshot(values={'messages': [HumanMessage(content=\"hi! I'm Rao\", additional_kwargs={}, response_metadata={}, id='0b2abdc8-2ef9-452b-85d5-55d0172e23d0'), AIMessage(content='Hey Rao! 👋 Great to see you back. You mentioned you’re into football—anything in particular you’re excited about right now? Whether it’s the NFL, college gridiron, or the global soccer scene, I’m all ears for a deep dive or just a casual chat!', additional_kwargs={'reasoning_content': 'User says hi again. We should respond warmly, maybe ask about football. They already said they like football. They might want to continue conversation. We can ask what they like about football. Also maybe ask if they want to talk about a specific league. So respond friendly.'}, response_metadata={'token_usage': {'completion_tokens': 123, 'prompt_tokens': 1107, 'total_tokens': 1230, 'completion_time': 0.125389402, 'prompt_time': 0.068791816, 'queue_time': 0.051074874, 'total_time': 0.194181218}, 'model_name': 'openai/gpt-oss-20b', 'system_fingerprint': 'fp_77f8660d1d', 'service_tier': 'on_demand', 'finish_reason': 'stop', 'logprobs': None}, id='run--577e4504-c7ea-4dc4-b7f3-e22f1cdda91c-0', usage_metadata={'input_tokens': 1107, 'output_tokens': 123, 'total_tokens': 1230}), HumanMessage(content=\"what's my name?\", additional_kwargs={}, response_metadata={}, id='b6a38f82-f240-46a9-95c4-f17fa4ced6f6'), AIMessage(content='Your name is Rao.', additional_kwargs={'reasoning_content': 'The user says \"what\\'s my name?\" They previously identified as Rao. The assistant earlier said \"Your name is Rao.\" So we should answer that.'}, response_metadata={'token_usage': {'completion_tokens': 46, 'prompt_tokens': 733, 'total_tokens': 779, 'completion_time': 0.045702983, 'prompt_time': 0.038509535, 'queue_time': 0.045620495, 'total_time': 0.084212518}, 'model_name': 'openai/gpt-oss-20b', 'system_fingerprint': 'fp_80501ff3a1', 'service_tier': 'on_demand', 'finish_reason': 'stop', 'logprobs': None}, id='run--c7763630-2693-4064-8f4b-4f8013b04e04-0', usage_metadata={'input_tokens': 733, 'output_tokens': 46, 'total_tokens': 779}), HumanMessage(content='i like football!', additional_kwargs={}, response_metadata={}, id='adeb37ba-b250-43d6-9d22-8534a9e3e578'), AIMessage(content='That’s awesome, Rao! ⚽️🏈 Which side of the game gets your heart racing? Are you more into the NFL, college football, or the global soccer (football) scene? Let me know and we can dive into the latest news, stats, or even a quick trivia quiz!', additional_kwargs={'reasoning_content': 'We need to respond to user. They say \"i like football!\" We should respond accordingly. The user has stated earlier they like football. They haven\\'t specified which type. We can ask which type: NFL, college, soccer. Also mention we can discuss. Should keep friendly.'}, response_metadata={'token_usage': {'completion_tokens': 127, 'prompt_tokens': 752, 'total_tokens': 879, 'completion_time': 0.129249012, 'prompt_time': 0.047028153, 'queue_time': 0.051213916, 'total_time': 0.176277165}, 'model_name': 'openai/gpt-oss-20b', 'system_fingerprint': 'fp_77f8660d1d', 'service_tier': 'on_demand', 'finish_reason': 'stop', 'logprobs': None}, id='run--4314416b-c257-47af-a72c-ddc06d7d39fb-0', usage_metadata={'input_tokens': 752, 'output_tokens': 127, 'total_tokens': 879})], 'summary': \"**Extended Conversation Summary (updated to include all recent messages)**  \\n\\n| # | Date/Time (UTC) | Speaker | Message |\\n|---|-----------------|---------|---------|\\n| 1 | 2025‑10‑19\\u202f08:12 | User | “hi! I’m Rao” |\\n| 2 | 2025‑10‑19\\u202f08:12 | Assistant | “Hi Rao! 👋 How can I help you today?” |\\n| 3 | 2025‑10‑19\\u202f08:13 | User | “what's my name?” |\\n| 4 | 2025‑10‑19\\u202f08:13 | Assistant | “Your name is Rao.” |\\n| 5 | 2025‑10‑19\\u202f08:14 | User | “i like football!” |\\n| 6 | 2025‑10‑19\\u202f08:14 | Assistant | “That’s great! ⚽️ Football’s got so many exciting aspects. Are you more into the NFL, college football, or perhaps soccer (football in most of the world)? …” |\\n| 7 | 2025‑10‑19\\u202f08:15 | User | “hi! I’m Rao” |\\n| 8 | 2025‑10‑19\\u202f08:15 | Assistant | “Hey Rao! 👋 Glad to chat with you again. You mentioned you like football—are you into the NFL, college football, or maybe soccer …” |\\n| 9 | 2025‑10‑19\\u202f08:16 | User | Provides a draft summary that incorrectly names the user as “Lance” and references the 49ers. |\\n|10 | 2025‑10‑19\\u202f08:17 | Assistant | “I’m reading this – Updated summary below that corrects the earlier inaccuracies and incorporates all messages up to this point.” |\\n|11 | 2025‑10‑19\\u202f08:18 | User | “Extend the summary by taking into account the new messages above.” |\\n\\n### Key Corrections & Highlights\\n\\n- **User Identity** – The user consistently identifies themselves as **Rao**; the earlier draft mistakenly listed “Lance.”  \\n- **No 49ers Mention** – The conversation never referenced the San\\u202fFrancisco\\u202f49ers; that was an error in the draft summary.  \\n- **Football Interest** – The assistant offered to discuss NFL, college football, or soccer (worldwide) but the user hasn’t chosen a specific focus yet.  \\n- **Summary Request** – The user explicitly requested an updated summary that incorporates all messages up to this point, including the latest request itself.\\n\\nFeel free to let me know which type of football you’d like to dive into next, or if there’s anything else you’d like to add or clarify!\"}, next=(), config={'configurable': {'thread_id': '1', 'checkpoint_ns': '', 'checkpoint_id': '1f0acd1d-38aa-6214-8025-09aed0ecfda7'}}, metadata={'source': 'loop', 'step': 37, 'parents': {}}, created_at='2025-10-19T09:56:04.570559+00:00', parent_config={'configurable': {'thread_id': '1', 'checkpoint_ns': '', 'checkpoint_id': '1f0acd1d-35f8-6fdc-8024-2fd914df672a'}}, tasks=(), interrupts=())"
      ]
     },
     "execution_count": 9,
     "metadata": {},
     "output_type": "execute_result"
    }
   ],
   "source": [
    "config = {\"configurable\": {\"thread_id\": \"1\"}}\n",
    "graph_state = graph.get_state(config)\n",
    "graph_state"
   ]
  },
  {
   "cell_type": "code",
   "execution_count": 10,
   "id": "b7699812",
   "metadata": {},
   "outputs": [
    {
     "data": {
      "text/plain": [
       "StateSnapshot(values={'messages': [HumanMessage(content=\"hi! I'm Rao\", additional_kwargs={}, response_metadata={}, id='0b2abdc8-2ef9-452b-85d5-55d0172e23d0'), AIMessage(content='Hey Rao! 👋 Great to see you back. You mentioned you’re into football—anything in particular you’re excited about right now? Whether it’s the NFL, college gridiron, or the global soccer scene, I’m all ears for a deep dive or just a casual chat!', additional_kwargs={'reasoning_content': 'User says hi again. We should respond warmly, maybe ask about football. They already said they like football. They might want to continue conversation. We can ask what they like about football. Also maybe ask if they want to talk about a specific league. So respond friendly.'}, response_metadata={'token_usage': {'completion_tokens': 123, 'prompt_tokens': 1107, 'total_tokens': 1230, 'completion_time': 0.125389402, 'prompt_time': 0.068791816, 'queue_time': 0.051074874, 'total_time': 0.194181218}, 'model_name': 'openai/gpt-oss-20b', 'system_fingerprint': 'fp_77f8660d1d', 'service_tier': 'on_demand', 'finish_reason': 'stop', 'logprobs': None}, id='run--577e4504-c7ea-4dc4-b7f3-e22f1cdda91c-0', usage_metadata={'input_tokens': 1107, 'output_tokens': 123, 'total_tokens': 1230}), HumanMessage(content=\"what's my name?\", additional_kwargs={}, response_metadata={}, id='b6a38f82-f240-46a9-95c4-f17fa4ced6f6'), AIMessage(content='Your name is Rao.', additional_kwargs={'reasoning_content': 'The user says \"what\\'s my name?\" They previously identified as Rao. The assistant earlier said \"Your name is Rao.\" So we should answer that.'}, response_metadata={'token_usage': {'completion_tokens': 46, 'prompt_tokens': 733, 'total_tokens': 779, 'completion_time': 0.045702983, 'prompt_time': 0.038509535, 'queue_time': 0.045620495, 'total_time': 0.084212518}, 'model_name': 'openai/gpt-oss-20b', 'system_fingerprint': 'fp_80501ff3a1', 'service_tier': 'on_demand', 'finish_reason': 'stop', 'logprobs': None}, id='run--c7763630-2693-4064-8f4b-4f8013b04e04-0', usage_metadata={'input_tokens': 733, 'output_tokens': 46, 'total_tokens': 779}), HumanMessage(content='i like football!', additional_kwargs={}, response_metadata={}, id='adeb37ba-b250-43d6-9d22-8534a9e3e578'), AIMessage(content='That’s awesome, Rao! ⚽️🏈 Which side of the game gets your heart racing? Are you more into the NFL, college football, or the global soccer (football) scene? Let me know and we can dive into the latest news, stats, or even a quick trivia quiz!', additional_kwargs={'reasoning_content': 'We need to respond to user. They say \"i like football!\" We should respond accordingly. The user has stated earlier they like football. They haven\\'t specified which type. We can ask which type: NFL, college, soccer. Also mention we can discuss. Should keep friendly.'}, response_metadata={'token_usage': {'completion_tokens': 127, 'prompt_tokens': 752, 'total_tokens': 879, 'completion_time': 0.129249012, 'prompt_time': 0.047028153, 'queue_time': 0.051213916, 'total_time': 0.176277165}, 'model_name': 'openai/gpt-oss-20b', 'system_fingerprint': 'fp_77f8660d1d', 'service_tier': 'on_demand', 'finish_reason': 'stop', 'logprobs': None}, id='run--4314416b-c257-47af-a72c-ddc06d7d39fb-0', usage_metadata={'input_tokens': 752, 'output_tokens': 127, 'total_tokens': 879})], 'summary': \"**Extended Conversation Summary (updated to include all recent messages)**  \\n\\n| # | Date/Time (UTC) | Speaker | Message |\\n|---|-----------------|---------|---------|\\n| 1 | 2025‑10‑19\\u202f08:12 | User | “hi! I’m Rao” |\\n| 2 | 2025‑10‑19\\u202f08:12 | Assistant | “Hi Rao! 👋 How can I help you today?” |\\n| 3 | 2025‑10‑19\\u202f08:13 | User | “what's my name?” |\\n| 4 | 2025‑10‑19\\u202f08:13 | Assistant | “Your name is Rao.” |\\n| 5 | 2025‑10‑19\\u202f08:14 | User | “i like football!” |\\n| 6 | 2025‑10‑19\\u202f08:14 | Assistant | “That’s great! ⚽️ Football’s got so many exciting aspects. Are you more into the NFL, college football, or perhaps soccer (football in most of the world)? …” |\\n| 7 | 2025‑10‑19\\u202f08:15 | User | “hi! I’m Rao” |\\n| 8 | 2025‑10‑19\\u202f08:15 | Assistant | “Hey Rao! 👋 Glad to chat with you again. You mentioned you like football—are you into the NFL, college football, or maybe soccer …” |\\n| 9 | 2025‑10‑19\\u202f08:16 | User | Provides a draft summary that incorrectly names the user as “Lance” and references the 49ers. |\\n|10 | 2025‑10‑19\\u202f08:17 | Assistant | “I’m reading this – Updated summary below that corrects the earlier inaccuracies and incorporates all messages up to this point.” |\\n|11 | 2025‑10‑19\\u202f08:18 | User | “Extend the summary by taking into account the new messages above.” |\\n\\n### Key Corrections & Highlights\\n\\n- **User Identity** – The user consistently identifies themselves as **Rao**; the earlier draft mistakenly listed “Lance.”  \\n- **No 49ers Mention** – The conversation never referenced the San\\u202fFrancisco\\u202f49ers; that was an error in the draft summary.  \\n- **Football Interest** – The assistant offered to discuss NFL, college football, or soccer (worldwide) but the user hasn’t chosen a specific focus yet.  \\n- **Summary Request** – The user explicitly requested an updated summary that incorporates all messages up to this point, including the latest request itself.\\n\\nFeel free to let me know which type of football you’d like to dive into next, or if there’s anything else you’d like to add or clarify!\"}, next=(), config={'configurable': {'thread_id': '1', 'checkpoint_ns': '', 'checkpoint_id': '1f0acd1d-38aa-6214-8025-09aed0ecfda7'}}, metadata={'source': 'loop', 'step': 37, 'parents': {}}, created_at='2025-10-19T09:56:04.570559+00:00', parent_config={'configurable': {'thread_id': '1', 'checkpoint_ns': '', 'checkpoint_id': '1f0acd1d-35f8-6fdc-8024-2fd914df672a'}}, tasks=(), interrupts=())"
      ]
     },
     "execution_count": 10,
     "metadata": {},
     "output_type": "execute_result"
    }
   ],
   "source": [
    "# Create a thread\n",
    "config = {\"configurable\": {\"thread_id\": \"1\"}}\n",
    "graph_state = graph.get_state(config)\n",
    "graph_state"
   ]
  }
 ],
 "metadata": {
  "kernelspec": {
   "display_name": "Python 3",
   "language": "python",
   "name": "python3"
  },
  "language_info": {
   "codemirror_mode": {
    "name": "ipython",
    "version": 3
   },
   "file_extension": ".py",
   "mimetype": "text/x-python",
   "name": "python",
   "nbconvert_exporter": "python",
   "pygments_lexer": "ipython3",
   "version": "3.13.3"
  }
 },
 "nbformat": 4,
 "nbformat_minor": 5
}
