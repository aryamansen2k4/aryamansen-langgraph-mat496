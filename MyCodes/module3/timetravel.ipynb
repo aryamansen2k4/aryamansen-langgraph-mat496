{
 "cells": [
  {
   "cell_type": "code",
   "execution_count": 1,
   "id": "8341073b",
   "metadata": {},
   "outputs": [],
   "source": [
    "import os, getpass\n",
    "\n",
    "def _set_env(var: str):\n",
    "    if not os.environ.get(var):\n",
    "        os.environ[var] = getpass.getpass(f\"{var}: \")\n",
    "\n",
    "_set_env(\"GROQ_API_KEY\")"
   ]
  },
  {
   "cell_type": "code",
   "execution_count": 2,
   "id": "e69da264",
   "metadata": {},
   "outputs": [
    {
     "name": "stderr",
     "output_type": "stream",
     "text": [
      "C:\\Users\\user\\AppData\\Local\\Packages\\PythonSoftwareFoundation.Python.3.13_qbz5n2kfra8p0\\LocalCache\\local-packages\\Python313\\site-packages\\tqdm\\auto.py:21: TqdmWarning: IProgress not found. Please update jupyter and ipywidgets. See https://ipywidgets.readthedocs.io/en/stable/user_install.html\n",
      "  from .autonotebook import tqdm as notebook_tqdm\n"
     ]
    }
   ],
   "source": [
    "from langchain_groq import ChatGroq\n",
    "\n",
    "def multiply(a: int, b: int) -> int:\n",
    "    \"\"\"Multiply a and b.\n",
    "\n",
    "    Args:\n",
    "        a: first int\n",
    "        b: second int\n",
    "    \"\"\"\n",
    "    return a * b\n",
    "\n",
    "# This will be a tool\n",
    "def add(a: int, b: int) -> int:\n",
    "    \"\"\"Adds a and b.\n",
    "\n",
    "    Args:\n",
    "        a: first int\n",
    "        b: second int\n",
    "    \"\"\"\n",
    "    return a + b\n",
    "\n",
    "def divide(a: int, b: int) -> float:\n",
    "    \"\"\"Divide a by b.\n",
    "\n",
    "    Args:\n",
    "        a: first int\n",
    "        b: second int\n",
    "    \"\"\"\n",
    "    return a / b\n",
    "\n",
    "def subtract(a: int, b: int) -> int:\n",
    "    \"\"\"Subtract b from a.\n",
    "\n",
    "    Args:\n",
    "        a: first int\n",
    "        b: second int\n",
    "    \"\"\"\n",
    "    return a - b\n",
    "\n",
    "def remainder(a: int, b: int) -> int:\n",
    "    \"\"\"Find a mod b.\n",
    "\n",
    "    Args:\n",
    "        a: first int\n",
    "        b: second int\n",
    "    \"\"\"\n",
    "    return a % b\n",
    "\n",
    "tools = [add, multiply, divide, subtract, remainder]\n",
    "llm = ChatGroq(model=\"openai/gpt-oss-20b\")\n",
    "llm_with_tools = llm.bind_tools(tools)"
   ]
  },
  {
   "cell_type": "code",
   "execution_count": 3,
   "id": "891924b0",
   "metadata": {},
   "outputs": [
    {
     "data": {
      "image/png": "[encoded data removed]",
      "text/plain": [
       "<IPython.core.display.Image object>"
      ]
     },
     "metadata": {},
     "output_type": "display_data"
    }
   ],
   "source": [
    "from IPython.display import Image, display\n",
    "\n",
    "from langgraph.checkpoint.memory import MemorySaver\n",
    "from langgraph.graph import MessagesState\n",
    "from langgraph.graph import START, END, StateGraph\n",
    "from langgraph.prebuilt import tools_condition, ToolNode\n",
    "\n",
    "from langchain_core.messages import AIMessage, HumanMessage, SystemMessage\n",
    "\n",
    "# System message\n",
    "sys_msg = SystemMessage(content=\"You are a helpful assistant tasked with performing arithmetic on a set of inputs.\")\n",
    "\n",
    "# Node\n",
    "def assistant(state: MessagesState):\n",
    "   return {\"messages\": [llm_with_tools.invoke([sys_msg] + state[\"messages\"])]}\n",
    "\n",
    "# Graph\n",
    "builder = StateGraph(MessagesState)\n",
    "\n",
    "# Define nodes: these do the work\n",
    "builder.add_node(\"assistant\", assistant)\n",
    "builder.add_node(\"tools\", ToolNode(tools))\n",
    "\n",
    "# Define edges: these determine the control flow\n",
    "builder.add_edge(START, \"assistant\")\n",
    "builder.add_conditional_edges(\n",
    "    \"assistant\",\n",
    "    # If the latest message (result) from assistant is a tool call -> tools_condition routes to tools\n",
    "    # If the latest message (result) from assistant is a not a tool call -> tools_condition routes to END\n",
    "    tools_condition,\n",
    ")\n",
    "builder.add_edge(\"tools\", \"assistant\")\n",
    "\n",
    "memory = MemorySaver()\n",
    "graph = builder.compile(checkpointer=MemorySaver())\n",
    "\n",
    "# Show\n",
    "display(Image(graph.get_graph(xray=True).draw_mermaid_png()))"
   ]
  },
  {
   "cell_type": "code",
   "execution_count": 4,
   "id": "3d87bbc7",
   "metadata": {},
   "outputs": [
    {
     "name": "stdout",
     "output_type": "stream",
     "text": [
      "================================\u001b[1m Human Message \u001b[0m=================================\n",
      "\n",
      "Add 2 and 3\n",
      "==================================\u001b[1m Ai Message \u001b[0m==================================\n",
      "Tool Calls:\n",
      "  add (fc_3b6276cf-b812-4d62-a766-81facbe480f6)\n",
      " Call ID: fc_3b6276cf-b812-4d62-a766-81facbe480f6\n",
      "  Args:\n",
      "    a: 2\n",
      "    b: 3\n",
      "=================================\u001b[1m Tool Message \u001b[0m=================================\n",
      "Name: add\n",
      "\n",
      "5\n",
      "==================================\u001b[1m Ai Message \u001b[0m==================================\n",
      "\n",
      "5\n"
     ]
    }
   ],
   "source": [
    "# Input\n",
    "initial_input = {\"messages\": HumanMessage(content=\"Add 2 and 3\")}\n",
    "\n",
    "# Thread\n",
    "thread = {\"configurable\": {\"thread_id\": \"1\"}}\n",
    "\n",
    "# Run the graph until the first interruption\n",
    "for event in graph.stream(initial_input, thread, stream_mode=\"values\"):\n",
    "    event['messages'][-1].pretty_print()"
   ]
  },
  {
   "cell_type": "code",
   "execution_count": null,
   "id": "a4e3a589",
   "metadata": {},
   "outputs": [
    {
     "data": {
      "text/plain": [
       "StateSnapshot(values={'messages': [HumanMessage(content='Add 2 and 3', additional_kwargs={}, response_metadata={}, id='87450d73-9f6f-4e44-8097-0035748ac0f0'), AIMessage(content='', additional_kwargs={'reasoning_content': 'We need to call add function.', 'tool_calls': [{'id': 'fc_3b6276cf-b812-4d62-a766-81facbe480f6', 'function': {'arguments': '{\"a\":2,\"b\":3}', 'name': 'add'}, 'type': 'function'}]}, response_metadata={'token_usage': {'completion_tokens': 34, 'prompt_tokens': 268, 'total_tokens': 302, 'completion_time': 0.034942238, 'prompt_time': 3.917e-05, 'queue_time': 0.04869663, 'total_time': 0.034981408, 'prompt_tokens_details': {'cached_tokens': 256}}, 'model_name': 'openai/gpt-oss-20b', 'system_fingerprint': 'fp_77f8660d1d', 'service_tier': 'on_demand', 'finish_reason': 'tool_calls', 'logprobs': None, 'model_provider': 'groq'}, id='lc_run--796b422f-0ab9-4974-8ae2-c8bf1515ba8f-0', tool_calls=[{'name': 'add', 'args': {'a': 2, 'b': 3}, 'id': 'fc_3b6276cf-b812-4d62-a766-81facbe480f6', 'type': 'tool_call'}], usage_metadata={'input_tokens': 268, 'output_tokens': 34, 'total_tokens': 302}), ToolMessage(content='5', name='add', id='bb9a4a79-4c44-4726-a416-acc9a5b1e5b8', tool_call_id='fc_3b6276cf-b812-4d62-a766-81facbe480f6'), AIMessage(content='5', additional_kwargs={'reasoning_content': 'We need to respond. The user asked: \"Add 2 and 3\". We already used add function and got result 5. Now we need to give the answer.'}, response_metadata={'token_usage': {'completion_tokens': 47, 'prompt_tokens': 299, 'total_tokens': 346, 'completion_time': 0.04640316, 'prompt_time': 0.003365221, 'queue_time': 0.047801559, 'total_time': 0.049768381, 'prompt_tokens_details': {'cached_tokens': 256}}, 'model_name': 'openai/gpt-oss-20b', 'system_fingerprint': 'fp_80501ff3a1', 'service_tier': 'on_demand', 'finish_reason': 'stop', 'logprobs': None, 'model_provider': 'groq'}, id='lc_run--f77eaac6-cf01-411d-b1b9-47a6280e4dec-0', usage_metadata={'input_tokens': 299, 'output_tokens': 47, 'total_tokens': 346})]}, next=(), config={'configurable': {'thread_id': '1', 'checkpoint_ns': '', 'checkpoint_id': '1f0b25a0-dc12-6539-8003-672e456a62b1'}}, metadata={'source': 'loop', 'step': 3, 'parents': {}}, created_at='2025-10-26T10:53:49.604779+00:00', parent_config={'configurable': {'thread_id': '1', 'checkpoint_ns': '', 'checkpoint_id': '1f0b25a0-dab5-6bf9-8002-408e410d3d9e'}}, tasks=(), interrupts=())"
      ]
     },
     "execution_count": 5,
     "metadata": {},
     "output_type": "execute_result"
    }
   ],
   "source": [
    "graph.get_state({'configurable': {'thread_id': '1'}})"
   ]
  },
  {
   "cell_type": "code",
   "execution_count": 6,
   "id": "c068d61c",
   "metadata": {},
   "outputs": [],
   "source": [
    "all_states = [s for s in graph.get_state_history(thread)]"
   ]
  },
  {
   "cell_type": "code",
   "execution_count": 7,
   "id": "64c4db08",
   "metadata": {},
   "outputs": [
    {
     "data": {
      "text/plain": [
       "5"
      ]
     },
     "execution_count": 7,
     "metadata": {},
     "output_type": "execute_result"
    }
   ],
   "source": [
    "len(all_states)"
   ]
  },
  {
   "cell_type": "code",
   "execution_count": 8,
   "id": "4a0e4809",
   "metadata": {},
   "outputs": [
    {
     "data": {
      "text/plain": [
       "StateSnapshot(values={'messages': [HumanMessage(content='Add 2 and 3', additional_kwargs={}, response_metadata={}, id='87450d73-9f6f-4e44-8097-0035748ac0f0')]}, next=('assistant',), config={'configurable': {'thread_id': '1', 'checkpoint_ns': '', 'checkpoint_id': '1f0b25a0-d8f4-65b8-8000-7853181235af'}}, metadata={'source': 'loop', 'step': 0, 'parents': {}}, created_at='2025-10-26T10:53:49.277931+00:00', parent_config={'configurable': {'thread_id': '1', 'checkpoint_ns': '', 'checkpoint_id': '1f0b25a0-d8f1-6461-bfff-2ef3727bac8e'}}, tasks=(PregelTask(id='fe07be64-120c-75dd-8abc-0c1cfe021e9d', name='assistant', path=('__pregel_pull', 'assistant'), error=None, interrupts=(), state=None, result={'messages': [AIMessage(content='', additional_kwargs={'reasoning_content': 'We need to call add function.', 'tool_calls': [{'id': 'fc_3b6276cf-b812-4d62-a766-81facbe480f6', 'function': {'arguments': '{\"a\":2,\"b\":3}', 'name': 'add'}, 'type': 'function'}]}, response_metadata={'token_usage': {'completion_tokens': 34, 'prompt_tokens': 268, 'total_tokens': 302, 'completion_time': 0.034942238, 'prompt_time': 3.917e-05, 'queue_time': 0.04869663, 'total_time': 0.034981408, 'prompt_tokens_details': {'cached_tokens': 256}}, 'model_name': 'openai/gpt-oss-20b', 'system_fingerprint': 'fp_77f8660d1d', 'service_tier': 'on_demand', 'finish_reason': 'tool_calls', 'logprobs': None, 'model_provider': 'groq'}, id='lc_run--796b422f-0ab9-4974-8ae2-c8bf1515ba8f-0', tool_calls=[{'name': 'add', 'args': {'a': 2, 'b': 3}, 'id': 'fc_3b6276cf-b812-4d62-a766-81facbe480f6', 'type': 'tool_call'}], usage_metadata={'input_tokens': 268, 'output_tokens': 34, 'total_tokens': 302})]}),), interrupts=())"
      ]
     },
     "execution_count": 8,
     "metadata": {},
     "output_type": "execute_result"
    }
   ],
   "source": [
    "all_states[-2]"
   ]
  },
  {
   "cell_type": "code",
   "execution_count": 9,
   "id": "68b268c9",
   "metadata": {},
   "outputs": [],
   "source": [
    "to_replay = all_states[-2]"
   ]
  },
  {
   "cell_type": "code",
   "execution_count": 10,
   "id": "88d37c9c",
   "metadata": {},
   "outputs": [
    {
     "data": {
      "text/plain": [
       "StateSnapshot(values={'messages': [HumanMessage(content='Add 2 and 3', additional_kwargs={}, response_metadata={}, id='87450d73-9f6f-4e44-8097-0035748ac0f0')]}, next=('assistant',), config={'configurable': {'thread_id': '1', 'checkpoint_ns': '', 'checkpoint_id': '1f0b25a0-d8f4-65b8-8000-7853181235af'}}, metadata={'source': 'loop', 'step': 0, 'parents': {}}, created_at='2025-10-26T10:53:49.277931+00:00', parent_config={'configurable': {'thread_id': '1', 'checkpoint_ns': '', 'checkpoint_id': '1f0b25a0-d8f1-6461-bfff-2ef3727bac8e'}}, tasks=(PregelTask(id='fe07be64-120c-75dd-8abc-0c1cfe021e9d', name='assistant', path=('__pregel_pull', 'assistant'), error=None, interrupts=(), state=None, result={'messages': [AIMessage(content='', additional_kwargs={'reasoning_content': 'We need to call add function.', 'tool_calls': [{'id': 'fc_3b6276cf-b812-4d62-a766-81facbe480f6', 'function': {'arguments': '{\"a\":2,\"b\":3}', 'name': 'add'}, 'type': 'function'}]}, response_metadata={'token_usage': {'completion_tokens': 34, 'prompt_tokens': 268, 'total_tokens': 302, 'completion_time': 0.034942238, 'prompt_time': 3.917e-05, 'queue_time': 0.04869663, 'total_time': 0.034981408, 'prompt_tokens_details': {'cached_tokens': 256}}, 'model_name': 'openai/gpt-oss-20b', 'system_fingerprint': 'fp_77f8660d1d', 'service_tier': 'on_demand', 'finish_reason': 'tool_calls', 'logprobs': None, 'model_provider': 'groq'}, id='lc_run--796b422f-0ab9-4974-8ae2-c8bf1515ba8f-0', tool_calls=[{'name': 'add', 'args': {'a': 2, 'b': 3}, 'id': 'fc_3b6276cf-b812-4d62-a766-81facbe480f6', 'type': 'tool_call'}], usage_metadata={'input_tokens': 268, 'output_tokens': 34, 'total_tokens': 302})]}),), interrupts=())"
      ]
     },
     "execution_count": 10,
     "metadata": {},
     "output_type": "execute_result"
    }
   ],
   "source": [
    "to_replay"
   ]
  },
  {
   "cell_type": "code",
   "execution_count": null,
   "id": "bd734341",
   "metadata": {},
   "outputs": [
    {
     "data": {
      "text/plain": [
       "{'messages': [HumanMessage(content='Add 2 and 3', additional_kwargs={}, response_metadata={}, id='87450d73-9f6f-4e44-8097-0035748ac0f0')]}"
      ]
     },
     "execution_count": 11,
     "metadata": {},
     "output_type": "execute_result"
    }
   ],
   "source": [
    "to_replay.values"
   ]
  },
  {
   "cell_type": "code",
   "execution_count": 12,
   "id": "71baad68",
   "metadata": {},
   "outputs": [
    {
     "data": {
      "text/plain": [
       "('assistant',)"
      ]
     },
     "execution_count": 12,
     "metadata": {},
     "output_type": "execute_result"
    }
   ],
   "source": [
    "to_replay.next"
   ]
  },
  {
   "cell_type": "code",
   "execution_count": 13,
   "id": "c0e35b9a",
   "metadata": {},
   "outputs": [
    {
     "data": {
      "text/plain": [
       "{'configurable': {'thread_id': '1',\n",
       "  'checkpoint_ns': '',\n",
       "  'checkpoint_id': '1f0b25a0-d8f4-65b8-8000-7853181235af'}}"
      ]
     },
     "execution_count": 13,
     "metadata": {},
     "output_type": "execute_result"
    }
   ],
   "source": [
    "to_replay.config"
   ]
  },
  {
   "cell_type": "code",
   "execution_count": 14,
   "id": "4667fad7",
   "metadata": {},
   "outputs": [
    {
     "name": "stdout",
     "output_type": "stream",
     "text": [
      "================================\u001b[1m Human Message \u001b[0m=================================\n",
      "\n",
      "Add 2 and 3\n",
      "==================================\u001b[1m Ai Message \u001b[0m==================================\n",
      "Tool Calls:\n",
      "  add (fc_7fb2506d-c93a-49d3-b2d1-6ac1b0822ea7)\n",
      " Call ID: fc_7fb2506d-c93a-49d3-b2d1-6ac1b0822ea7\n",
      "  Args:\n",
      "    a: 2\n",
      "    b: 3\n",
      "=================================\u001b[1m Tool Message \u001b[0m=================================\n",
      "Name: add\n",
      "\n",
      "5\n",
      "==================================\u001b[1m Ai Message \u001b[0m==================================\n",
      "\n",
      "5\n"
     ]
    }
   ],
   "source": [
    "for event in graph.stream(None, to_replay.config, stream_mode=\"values\"):\n",
    "    event['messages'][-1].pretty_print()"
   ]
  },
  {
   "cell_type": "code",
   "execution_count": 15,
   "id": "afba96a5",
   "metadata": {},
   "outputs": [
    {
     "data": {
      "text/plain": [
       "[HumanMessage(content='Add 2 and 3', additional_kwargs={}, response_metadata={}, id='87450d73-9f6f-4e44-8097-0035748ac0f0')]"
      ]
     },
     "execution_count": 15,
     "metadata": {},
     "output_type": "execute_result"
    }
   ],
   "source": [
    "to_fork = all_states[-2]\n",
    "to_fork.values[\"messages\"]"
   ]
  },
  {
   "cell_type": "code",
   "execution_count": 16,
   "id": "1aac7cbf",
   "metadata": {},
   "outputs": [
    {
     "data": {
      "text/plain": [
       "{'configurable': {'thread_id': '1',\n",
       "  'checkpoint_ns': '',\n",
       "  'checkpoint_id': '1f0b25a0-d8f4-65b8-8000-7853181235af'}}"
      ]
     },
     "execution_count": 16,
     "metadata": {},
     "output_type": "execute_result"
    }
   ],
   "source": [
    "to_fork.config"
   ]
  },
  {
   "cell_type": "code",
   "execution_count": 18,
   "id": "f50cd777",
   "metadata": {},
   "outputs": [],
   "source": [
    "fork_config = graph.update_state(\n",
    "    to_fork.config,\n",
    "    {\"messages\": [HumanMessage(content='Find 5 mod 3', \n",
    "                               id=to_fork.values[\"messages\"][0].id)]},\n",
    ")"
   ]
  },
  {
   "cell_type": "code",
   "execution_count": 19,
   "id": "91db668d",
   "metadata": {},
   "outputs": [
    {
     "data": {
      "text/plain": [
       "{'configurable': {'thread_id': '1',\n",
       "  'checkpoint_ns': '',\n",
       "  'checkpoint_id': '1f0b25a4-5949-6a04-8001-bb69e1fa2d9b'}}"
      ]
     },
     "execution_count": 19,
     "metadata": {},
     "output_type": "execute_result"
    }
   ],
   "source": [
    "fork_config"
   ]
  },
  {
   "cell_type": "code",
   "execution_count": 20,
   "id": "1fa36500",
   "metadata": {},
   "outputs": [
    {
     "data": {
      "text/plain": [
       "[HumanMessage(content='Find 5 mod 3', additional_kwargs={}, response_metadata={}, id='87450d73-9f6f-4e44-8097-0035748ac0f0'),\n",
       " AIMessage(content='', additional_kwargs={'reasoning_content': 'We need to call add function.', 'tool_calls': [{'id': 'fc_3b6276cf-b812-4d62-a766-81facbe480f6', 'function': {'arguments': '{\"a\":2,\"b\":3}', 'name': 'add'}, 'type': 'function'}]}, response_metadata={'token_usage': {'completion_tokens': 34, 'prompt_tokens': 268, 'total_tokens': 302, 'completion_time': 0.034942238, 'prompt_time': 3.917e-05, 'queue_time': 0.04869663, 'total_time': 0.034981408, 'prompt_tokens_details': {'cached_tokens': 256}}, 'model_name': 'openai/gpt-oss-20b', 'system_fingerprint': 'fp_77f8660d1d', 'service_tier': 'on_demand', 'finish_reason': 'tool_calls', 'logprobs': None, 'model_provider': 'groq'}, id='lc_run--796b422f-0ab9-4974-8ae2-c8bf1515ba8f-0', tool_calls=[{'name': 'add', 'args': {'a': 2, 'b': 3}, 'id': 'fc_3b6276cf-b812-4d62-a766-81facbe480f6', 'type': 'tool_call'}], usage_metadata={'input_tokens': 268, 'output_tokens': 34, 'total_tokens': 302})]"
      ]
     },
     "execution_count": 20,
     "metadata": {},
     "output_type": "execute_result"
    }
   ],
   "source": [
    "all_states = [state for state in graph.get_state_history(thread) ]\n",
    "all_states[0].values[\"messages\"]"
   ]
  },
  {
   "cell_type": "code",
   "execution_count": 21,
   "id": "cc1c191c",
   "metadata": {},
   "outputs": [
    {
     "data": {
      "text/plain": [
       "StateSnapshot(values={'messages': [HumanMessage(content='Find 5 mod 3', additional_kwargs={}, response_metadata={}, id='87450d73-9f6f-4e44-8097-0035748ac0f0'), AIMessage(content='', additional_kwargs={'reasoning_content': 'We need to call add function.', 'tool_calls': [{'id': 'fc_3b6276cf-b812-4d62-a766-81facbe480f6', 'function': {'arguments': '{\"a\":2,\"b\":3}', 'name': 'add'}, 'type': 'function'}]}, response_metadata={'token_usage': {'completion_tokens': 34, 'prompt_tokens': 268, 'total_tokens': 302, 'completion_time': 0.034942238, 'prompt_time': 3.917e-05, 'queue_time': 0.04869663, 'total_time': 0.034981408, 'prompt_tokens_details': {'cached_tokens': 256}}, 'model_name': 'openai/gpt-oss-20b', 'system_fingerprint': 'fp_77f8660d1d', 'service_tier': 'on_demand', 'finish_reason': 'tool_calls', 'logprobs': None, 'model_provider': 'groq'}, id='lc_run--796b422f-0ab9-4974-8ae2-c8bf1515ba8f-0', tool_calls=[{'name': 'add', 'args': {'a': 2, 'b': 3}, 'id': 'fc_3b6276cf-b812-4d62-a766-81facbe480f6', 'type': 'tool_call'}], usage_metadata={'input_tokens': 268, 'output_tokens': 34, 'total_tokens': 302})]}, next=('tools',), config={'configurable': {'thread_id': '1', 'checkpoint_ns': '', 'checkpoint_id': '1f0b25a4-5949-6a04-8001-bb69e1fa2d9b'}}, metadata={'source': 'update', 'step': 1, 'parents': {}}, created_at='2025-10-26T10:55:23.265263+00:00', parent_config={'configurable': {'thread_id': '1', 'checkpoint_ns': '', 'checkpoint_id': '1f0b25a0-d8f4-65b8-8000-7853181235af'}}, tasks=(PregelTask(id='fac5c973-d3b2-29b0-6bcf-62ebfc2132a6', name='tools', path=('__pregel_pull', 'tools'), error=None, interrupts=(), state=None, result=None),), interrupts=())"
      ]
     },
     "execution_count": 21,
     "metadata": {},
     "output_type": "execute_result"
    }
   ],
   "source": [
    "graph.get_state({'configurable': {'thread_id': '1'}})"
   ]
  },
  {
   "cell_type": "code",
   "execution_count": 22,
   "id": "38c2f15e",
   "metadata": {},
   "outputs": [
    {
     "name": "stdout",
     "output_type": "stream",
     "text": [
      "==================================\u001b[1m Ai Message \u001b[0m==================================\n",
      "Tool Calls:\n",
      "  add (fc_3b6276cf-b812-4d62-a766-81facbe480f6)\n",
      " Call ID: fc_3b6276cf-b812-4d62-a766-81facbe480f6\n",
      "  Args:\n",
      "    a: 2\n",
      "    b: 3\n",
      "=================================\u001b[1m Tool Message \u001b[0m=================================\n",
      "Name: add\n",
      "\n",
      "5\n",
      "==================================\u001b[1m Ai Message \u001b[0m==================================\n",
      "Tool Calls:\n",
      "  remainder (fc_d7afb67a-5600-4620-bd27-b7ec1454c2ff)\n",
      " Call ID: fc_d7afb67a-5600-4620-bd27-b7ec1454c2ff\n",
      "  Args:\n",
      "    a: 5\n",
      "    b: 3\n",
      "=================================\u001b[1m Tool Message \u001b[0m=================================\n",
      "Name: remainder\n",
      "\n",
      "2\n",
      "==================================\u001b[1m Ai Message \u001b[0m==================================\n",
      "\n",
      "2\n"
     ]
    }
   ],
   "source": [
    "for event in graph.stream(None, fork_config, stream_mode=\"values\"):\n",
    "    event['messages'][-1].pretty_print()"
   ]
  },
  {
   "cell_type": "code",
   "execution_count": 24,
   "id": "92659ad0",
   "metadata": {},
   "outputs": [
    {
     "data": {
      "text/plain": [
       "StateSnapshot(values={'messages': [HumanMessage(content='Find 5 mod 3', additional_kwargs={}, response_metadata={}, id='87450d73-9f6f-4e44-8097-0035748ac0f0'), AIMessage(content='', additional_kwargs={'reasoning_content': 'We need to call add function.', 'tool_calls': [{'id': 'fc_3b6276cf-b812-4d62-a766-81facbe480f6', 'function': {'arguments': '{\"a\":2,\"b\":3}', 'name': 'add'}, 'type': 'function'}]}, response_metadata={'token_usage': {'completion_tokens': 34, 'prompt_tokens': 268, 'total_tokens': 302, 'completion_time': 0.034942238, 'prompt_time': 3.917e-05, 'queue_time': 0.04869663, 'total_time': 0.034981408, 'prompt_tokens_details': {'cached_tokens': 256}}, 'model_name': 'openai/gpt-oss-20b', 'system_fingerprint': 'fp_77f8660d1d', 'service_tier': 'on_demand', 'finish_reason': 'tool_calls', 'logprobs': None, 'model_provider': 'groq'}, id='lc_run--796b422f-0ab9-4974-8ae2-c8bf1515ba8f-0', tool_calls=[{'name': 'add', 'args': {'a': 2, 'b': 3}, 'id': 'fc_3b6276cf-b812-4d62-a766-81facbe480f6', 'type': 'tool_call'}], usage_metadata={'input_tokens': 268, 'output_tokens': 34, 'total_tokens': 302}), ToolMessage(content='5', name='add', id='9cecc194-d6d2-4ea3-869f-3c319c5b729b', tool_call_id='fc_3b6276cf-b812-4d62-a766-81facbe480f6'), AIMessage(content='', additional_kwargs={'reasoning_content': 'We need to compute 5 mod 3. The user asked \"Find 5 mod 3\". The correct answer is 2. The assistant incorrectly called add with a=2, b=3, which is wrong. We should call remainder function.', 'tool_calls': [{'id': 'fc_d7afb67a-5600-4620-bd27-b7ec1454c2ff', 'function': {'arguments': '{\"a\":5,\"b\":3}', 'name': 'remainder'}, 'type': 'function'}]}, response_metadata={'token_usage': {'completion_tokens': 80, 'prompt_tokens': 299, 'total_tokens': 379, 'completion_time': 0.078385676, 'prompt_time': 0.003570592, 'queue_time': 0.050492708, 'total_time': 0.081956268, 'prompt_tokens_details': {'cached_tokens': 256}}, 'model_name': 'openai/gpt-oss-20b', 'system_fingerprint': 'fp_e99e93f2ac', 'service_tier': 'on_demand', 'finish_reason': 'tool_calls', 'logprobs': None, 'model_provider': 'groq'}, id='lc_run--5f7bbb1b-0dda-4a44-92d3-bc14b3f65358-0', tool_calls=[{'name': 'remainder', 'args': {'a': 5, 'b': 3}, 'id': 'fc_d7afb67a-5600-4620-bd27-b7ec1454c2ff', 'type': 'tool_call'}], usage_metadata={'input_tokens': 299, 'output_tokens': 80, 'total_tokens': 379}), ToolMessage(content='2', name='remainder', id='db6e14a7-7a00-4644-9ccf-512fdf7ee151', tool_call_id='fc_d7afb67a-5600-4620-bd27-b7ec1454c2ff'), AIMessage(content='2', additional_kwargs={'reasoning_content': 'The user asked: \"Find 5 mod 3\". The assistant responded with 2. That is correct. No further action needed.'}, response_metadata={'token_usage': {'completion_tokens': 39, 'prompt_tokens': 331, 'total_tokens': 370, 'completion_time': 0.038219022, 'prompt_time': 0.004429376, 'queue_time': 0.046808924, 'total_time': 0.042648398, 'prompt_tokens_details': {'cached_tokens': 256}}, 'model_name': 'openai/gpt-oss-20b', 'system_fingerprint': 'fp_77f8660d1d', 'service_tier': 'on_demand', 'finish_reason': 'stop', 'logprobs': None, 'model_provider': 'groq'}, id='lc_run--f017875d-e494-4faf-8e4e-c6d6df8e6160-0', usage_metadata={'input_tokens': 331, 'output_tokens': 39, 'total_tokens': 370})]}, next=(), config={'configurable': {'thread_id': '1', 'checkpoint_ns': '', 'checkpoint_id': '1f0b25a5-0c86-606f-8005-eb44d4f49ea2'}}, metadata={'source': 'loop', 'step': 5, 'parents': {}}, created_at='2025-10-26T10:55:42.059513+00:00', parent_config={'configurable': {'thread_id': '1', 'checkpoint_ns': '', 'checkpoint_id': '1f0b25a5-0b2f-69e7-8004-4e6354e3b2e5'}}, tasks=(), interrupts=())"
      ]
     },
     "execution_count": 24,
     "metadata": {},
     "output_type": "execute_result"
    }
   ],
   "source": [
    "graph.get_state({'configurable': {'thread_id': '1'}})"
   ]
  },
  {
   "cell_type": "code",
   "execution_count": null,
   "id": "1966af0b",
   "metadata": {},
   "outputs": [],
   "source": []
  }
 ],
 "metadata": {
  "kernelspec": {
   "display_name": "Python 3",
   "language": "python",
   "name": "python3"
  },
  "language_info": {
   "codemirror_mode": {
    "name": "ipython",
    "version": 3
   },
   "file_extension": ".py",
   "mimetype": "text/x-python",
   "name": "python",
   "nbconvert_exporter": "python",
   "pygments_lexer": "ipython3",
   "version": "3.13.3"
  }
 },
 "nbformat": 4,
 "nbformat_minor": 5
}
